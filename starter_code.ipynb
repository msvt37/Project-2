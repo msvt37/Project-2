{
  "nbformat": 4,
  "nbformat_minor": 0,
  "metadata": {
    "colab": {
      "name": "Copy of Untitled0.ipynb",
      "provenance": []
    },
    "kernelspec": {
      "name": "python3",
      "display_name": "Python 3"
    },
    "language_info": {
      "name": "python"
    }
  },
  "cells": [
    {
      "cell_type": "code",
      "metadata": {
        "colab": {
          "base_uri": "https://localhost:8080/"
        },
        "id": "VlVh79uYxp7d",
        "outputId": "4130506a-8266-4566-f994-e56323c05213"
      },
      "source": [
        "!pip install yfinance"
      ],
      "execution_count": 30,
      "outputs": [
        {
          "output_type": "stream",
          "text": [
            "Requirement already satisfied: yfinance in /usr/local/lib/python3.7/dist-packages (0.1.59)\n",
            "Requirement already satisfied: numpy>=1.15 in /usr/local/lib/python3.7/dist-packages (from yfinance) (1.19.5)\n",
            "Requirement already satisfied: requests>=2.20 in /usr/local/lib/python3.7/dist-packages (from yfinance) (2.23.0)\n",
            "Requirement already satisfied: pandas>=0.24 in /usr/local/lib/python3.7/dist-packages (from yfinance) (1.1.5)\n",
            "Requirement already satisfied: multitasking>=0.0.7 in /usr/local/lib/python3.7/dist-packages (from yfinance) (0.0.9)\n",
            "Requirement already satisfied: lxml>=4.5.1 in /usr/local/lib/python3.7/dist-packages (from yfinance) (4.6.3)\n",
            "Requirement already satisfied: certifi>=2017.4.17 in /usr/local/lib/python3.7/dist-packages (from requests>=2.20->yfinance) (2020.12.5)\n",
            "Requirement already satisfied: idna<3,>=2.5 in /usr/local/lib/python3.7/dist-packages (from requests>=2.20->yfinance) (2.10)\n",
            "Requirement already satisfied: chardet<4,>=3.0.2 in /usr/local/lib/python3.7/dist-packages (from requests>=2.20->yfinance) (3.0.4)\n",
            "Requirement already satisfied: urllib3!=1.25.0,!=1.25.1,<1.26,>=1.21.1 in /usr/local/lib/python3.7/dist-packages (from requests>=2.20->yfinance) (1.24.3)\n",
            "Requirement already satisfied: python-dateutil>=2.7.3 in /usr/local/lib/python3.7/dist-packages (from pandas>=0.24->yfinance) (2.8.1)\n",
            "Requirement already satisfied: pytz>=2017.2 in /usr/local/lib/python3.7/dist-packages (from pandas>=0.24->yfinance) (2018.9)\n",
            "Requirement already satisfied: six>=1.5 in /usr/local/lib/python3.7/dist-packages (from python-dateutil>=2.7.3->pandas>=0.24->yfinance) (1.15.0)\n"
          ],
          "name": "stdout"
        }
      ]
    },
    {
      "cell_type": "code",
      "metadata": {
        "id": "4rVeOtFIx_3k"
      },
      "source": [
        "import yfinance as yf\n",
        "import pandas as pd\n"
      ],
      "execution_count": 31,
      "outputs": []
    },
    {
      "cell_type": "code",
      "metadata": {
        "id": "hfAi0VGx9ZjF"
      },
      "source": [
        "my_portfolio = yf.Ticker(\"CCL\") \n",
        "my_portfolio_df = my_portfolio.history(period=\"1y\", interval = \"1d\")"
      ],
      "execution_count": 32,
      "outputs": []
    },
    {
      "cell_type": "code",
      "metadata": {
        "colab": {
          "base_uri": "https://localhost:8080/"
        },
        "id": "TlsR4ndi9eGj",
        "outputId": "7c8dc354-cadc-4ed6-d98e-6cee69daec25"
      },
      "source": [
        "my_portfolio_df.isna().sum()"
      ],
      "execution_count": 33,
      "outputs": [
        {
          "output_type": "execute_result",
          "data": {
            "text/plain": [
              "Open            0\n",
              "High            0\n",
              "Low             0\n",
              "Close           0\n",
              "Volume          0\n",
              "Dividends       0\n",
              "Stock Splits    0\n",
              "dtype: int64"
            ]
          },
          "metadata": {
            "tags": []
          },
          "execution_count": 33
        }
      ]
    },
    {
      "cell_type": "code",
      "metadata": {
        "colab": {
          "base_uri": "https://localhost:8080/",
          "height": 225
        },
        "id": "6rgg1s3N-Ns-",
        "outputId": "e8cf8820-1e5c-4e4f-a7c7-86448d5ec86e"
      },
      "source": [
        "my_portfolio_df.sample(5)"
      ],
      "execution_count": 34,
      "outputs": [
        {
          "output_type": "execute_result",
          "data": {
            "text/html": [
              "<div>\n",
              "<style scoped>\n",
              "    .dataframe tbody tr th:only-of-type {\n",
              "        vertical-align: middle;\n",
              "    }\n",
              "\n",
              "    .dataframe tbody tr th {\n",
              "        vertical-align: top;\n",
              "    }\n",
              "\n",
              "    .dataframe thead th {\n",
              "        text-align: right;\n",
              "    }\n",
              "</style>\n",
              "<table border=\"1\" class=\"dataframe\">\n",
              "  <thead>\n",
              "    <tr style=\"text-align: right;\">\n",
              "      <th></th>\n",
              "      <th>Open</th>\n",
              "      <th>High</th>\n",
              "      <th>Low</th>\n",
              "      <th>Close</th>\n",
              "      <th>Volume</th>\n",
              "      <th>Dividends</th>\n",
              "      <th>Stock Splits</th>\n",
              "    </tr>\n",
              "    <tr>\n",
              "      <th>Date</th>\n",
              "      <th></th>\n",
              "      <th></th>\n",
              "      <th></th>\n",
              "      <th></th>\n",
              "      <th></th>\n",
              "      <th></th>\n",
              "      <th></th>\n",
              "    </tr>\n",
              "  </thead>\n",
              "  <tbody>\n",
              "    <tr>\n",
              "      <th>2021-01-19</th>\n",
              "      <td>21.000000</td>\n",
              "      <td>21.260000</td>\n",
              "      <td>20.610001</td>\n",
              "      <td>20.870001</td>\n",
              "      <td>21273500</td>\n",
              "      <td>0</td>\n",
              "      <td>0</td>\n",
              "    </tr>\n",
              "    <tr>\n",
              "      <th>2020-08-28</th>\n",
              "      <td>16.580000</td>\n",
              "      <td>17.340000</td>\n",
              "      <td>16.230000</td>\n",
              "      <td>17.209999</td>\n",
              "      <td>51079100</td>\n",
              "      <td>0</td>\n",
              "      <td>0</td>\n",
              "    </tr>\n",
              "    <tr>\n",
              "      <th>2020-09-14</th>\n",
              "      <td>17.940001</td>\n",
              "      <td>18.120001</td>\n",
              "      <td>17.540001</td>\n",
              "      <td>17.850000</td>\n",
              "      <td>25838400</td>\n",
              "      <td>0</td>\n",
              "      <td>0</td>\n",
              "    </tr>\n",
              "    <tr>\n",
              "      <th>2020-12-11</th>\n",
              "      <td>22.639999</td>\n",
              "      <td>22.820000</td>\n",
              "      <td>21.280001</td>\n",
              "      <td>21.320000</td>\n",
              "      <td>52517400</td>\n",
              "      <td>0</td>\n",
              "      <td>0</td>\n",
              "    </tr>\n",
              "    <tr>\n",
              "      <th>2021-02-16</th>\n",
              "      <td>21.160000</td>\n",
              "      <td>22.559999</td>\n",
              "      <td>20.959999</td>\n",
              "      <td>22.469999</td>\n",
              "      <td>55038100</td>\n",
              "      <td>0</td>\n",
              "      <td>0</td>\n",
              "    </tr>\n",
              "  </tbody>\n",
              "</table>\n",
              "</div>"
            ],
            "text/plain": [
              "                 Open       High        Low  ...    Volume  Dividends  Stock Splits\n",
              "Date                                         ...                                   \n",
              "2021-01-19  21.000000  21.260000  20.610001  ...  21273500          0             0\n",
              "2020-08-28  16.580000  17.340000  16.230000  ...  51079100          0             0\n",
              "2020-09-14  17.940001  18.120001  17.540001  ...  25838400          0             0\n",
              "2020-12-11  22.639999  22.820000  21.280001  ...  52517400          0             0\n",
              "2021-02-16  21.160000  22.559999  20.959999  ...  55038100          0             0\n",
              "\n",
              "[5 rows x 7 columns]"
            ]
          },
          "metadata": {
            "tags": []
          },
          "execution_count": 34
        }
      ]
    },
    {
      "cell_type": "code",
      "metadata": {
        "id": "qxSloHZwAeAF",
        "colab": {
          "base_uri": "https://localhost:8080/",
          "height": 294
        },
        "outputId": "374a8545-5373-4c54-f0bb-b827f99ce3f8"
      },
      "source": [
        "my_portfolio_df.plot(y = 'Close')"
      ],
      "execution_count": 35,
      "outputs": [
        {
          "output_type": "execute_result",
          "data": {
            "text/plain": [
              "<matplotlib.axes._subplots.AxesSubplot at 0x7fd65f4e1e90>"
            ]
          },
          "metadata": {
            "tags": []
          },
          "execution_count": 35
        },
        {
          "output_type": "display_data",
          "data": {
            "image/png": "[encoded data removed]",
            "text/plain": [
              "<Figure size 432x288 with 1 Axes>"
            ]
          },
          "metadata": {
            "tags": [],
            "needs_background": "light"
          }
        }
      ]
    },
    {
      "cell_type": "code",
      "metadata": {
        "id": "M-4efUyVjfab"
      },
      "source": [
        "import pandas as pd\n",
        "import numpy as np\n",
        "%matplotlib inline"
      ],
      "execution_count": 36,
      "outputs": []
    },
    {
      "cell_type": "code",
      "metadata": {
        "id": "TB6MbgaidO9x"
      },
      "source": [
        ""
      ],
      "execution_count": 36,
      "outputs": []
    },
    {
      "cell_type": "code",
      "metadata": {
        "id": "TIF3YzhKB6U-",
        "colab": {
          "base_uri": "https://localhost:8080/",
          "height": 225
        },
        "outputId": "4748e5bb-8054-4cb1-efca-27e247ad7f20"
      },
      "source": [
        "my_portfolio_df['decision'] = np.nan\n",
        "my_portfolio_df['profit/loss'] = np.nan\n",
        "my_portfolio_df.head()"
      ],
      "execution_count": 37,
      "outputs": [
        {
          "output_type": "execute_result",
          "data": {
            "text/html": [
              "<div>\n",
              "<style scoped>\n",
              "    .dataframe tbody tr th:only-of-type {\n",
              "        vertical-align: middle;\n",
              "    }\n",
              "\n",
              "    .dataframe tbody tr th {\n",
              "        vertical-align: top;\n",
              "    }\n",
              "\n",
              "    .dataframe thead th {\n",
              "        text-align: right;\n",
              "    }\n",
              "</style>\n",
              "<table border=\"1\" class=\"dataframe\">\n",
              "  <thead>\n",
              "    <tr style=\"text-align: right;\">\n",
              "      <th></th>\n",
              "      <th>Open</th>\n",
              "      <th>High</th>\n",
              "      <th>Low</th>\n",
              "      <th>Close</th>\n",
              "      <th>Volume</th>\n",
              "      <th>Dividends</th>\n",
              "      <th>Stock Splits</th>\n",
              "      <th>decision</th>\n",
              "      <th>profit/loss</th>\n",
              "    </tr>\n",
              "    <tr>\n",
              "      <th>Date</th>\n",
              "      <th></th>\n",
              "      <th></th>\n",
              "      <th></th>\n",
              "      <th></th>\n",
              "      <th></th>\n",
              "      <th></th>\n",
              "      <th></th>\n",
              "      <th></th>\n",
              "      <th></th>\n",
              "    </tr>\n",
              "  </thead>\n",
              "  <tbody>\n",
              "    <tr>\n",
              "      <th>2020-06-05</th>\n",
              "      <td>22.299999</td>\n",
              "      <td>22.940001</td>\n",
              "      <td>21.059999</td>\n",
              "      <td>21.510000</td>\n",
              "      <td>113521100</td>\n",
              "      <td>0</td>\n",
              "      <td>0</td>\n",
              "      <td>NaN</td>\n",
              "      <td>NaN</td>\n",
              "    </tr>\n",
              "    <tr>\n",
              "      <th>2020-06-08</th>\n",
              "      <td>24.570000</td>\n",
              "      <td>25.280001</td>\n",
              "      <td>23.410000</td>\n",
              "      <td>24.910000</td>\n",
              "      <td>107262900</td>\n",
              "      <td>0</td>\n",
              "      <td>0</td>\n",
              "      <td>NaN</td>\n",
              "      <td>NaN</td>\n",
              "    </tr>\n",
              "    <tr>\n",
              "      <th>2020-06-09</th>\n",
              "      <td>23.879999</td>\n",
              "      <td>23.900000</td>\n",
              "      <td>21.930000</td>\n",
              "      <td>23.040001</td>\n",
              "      <td>72547400</td>\n",
              "      <td>0</td>\n",
              "      <td>0</td>\n",
              "      <td>NaN</td>\n",
              "      <td>NaN</td>\n",
              "    </tr>\n",
              "    <tr>\n",
              "      <th>2020-06-10</th>\n",
              "      <td>22.200001</td>\n",
              "      <td>22.469999</td>\n",
              "      <td>19.500000</td>\n",
              "      <td>20.590000</td>\n",
              "      <td>82883100</td>\n",
              "      <td>0</td>\n",
              "      <td>0</td>\n",
              "      <td>NaN</td>\n",
              "      <td>NaN</td>\n",
              "    </tr>\n",
              "    <tr>\n",
              "      <th>2020-06-11</th>\n",
              "      <td>17.290001</td>\n",
              "      <td>18.990000</td>\n",
              "      <td>16.750000</td>\n",
              "      <td>17.440001</td>\n",
              "      <td>79106600</td>\n",
              "      <td>0</td>\n",
              "      <td>0</td>\n",
              "      <td>NaN</td>\n",
              "      <td>NaN</td>\n",
              "    </tr>\n",
              "  </tbody>\n",
              "</table>\n",
              "</div>"
            ],
            "text/plain": [
              "                 Open       High  ...  decision  profit/loss\n",
              "Date                              ...                       \n",
              "2020-06-05  22.299999  22.940001  ...       NaN          NaN\n",
              "2020-06-08  24.570000  25.280001  ...       NaN          NaN\n",
              "2020-06-09  23.879999  23.900000  ...       NaN          NaN\n",
              "2020-06-10  22.200001  22.469999  ...       NaN          NaN\n",
              "2020-06-11  17.290001  18.990000  ...       NaN          NaN\n",
              "\n",
              "[5 rows x 9 columns]"
            ]
          },
          "metadata": {
            "tags": []
          },
          "execution_count": 37
        }
      ]
    },
    {
      "cell_type": "code",
      "metadata": {
        "id": "DA0n8IXrjNfn"
      },
      "source": [
        "previous_price = 0"
      ],
      "execution_count": 38,
      "outputs": []
    },
    {
      "cell_type": "code",
      "metadata": {
        "id": "8ihnBCMXjp3L"
      },
      "source": [
        "buy = []\n",
        "sell = []\n",
        "\n",
        "for index, row in my_portfolio_df.iterrows():\n",
        "\n",
        "    if previous_price == 0:\n",
        "        my_portfolio_df.loc[index, \"decision\"] = \"buy\"\n",
        "        buy.append(row[\"Close\"])\n",
        "        my_portfolio_df.loc[index, \"profit/loss\"] = 0\n",
        "    elif row[\"Close\"] < previous_price:\n",
        "        my_portfolio_df.loc[index, \"decision\"] = \"buy\"\n",
        "        buy.append(row[\"Close\"])\n",
        "        my_portfolio_df.loc[index, \"profit/loss\"] = 0\n",
        "    elif row[\"Close\"] > previous_price:\n",
        "        my_portfolio_df.loc[index, \"decision\"] = \"sell\"\n",
        "        sell.append(row[\"Close\"])\n",
        "        my_portfolio_df.loc[index, \"profit/loss\"] = sell[-1] - buy[-1]\n",
        "    else:\n",
        "        my_portfolio_df.loc[index, \"decision\"] = \"hold\"\n",
        "\n",
        "    previous_price = row[\"Close\"]\n",
        "    "
      ],
      "execution_count": 39,
      "outputs": []
    },
    {
      "cell_type": "code",
      "metadata": {
        "colab": {
          "base_uri": "https://localhost:8080/"
        },
        "id": "tY5udBWQkMOg",
        "outputId": "c557bc2c-f3d6-4001-a864-1cee6dc6c79a"
      },
      "source": [
        "my_portfolio_df['profit/loss'].sum()"
      ],
      "execution_count": 40,
      "outputs": [
        {
          "output_type": "execute_result",
          "data": {
            "text/plain": [
              "154.61999130249023"
            ]
          },
          "metadata": {
            "tags": []
          },
          "execution_count": 40
        }
      ]
    },
    {
      "cell_type": "code",
      "metadata": {
        "colab": {
          "base_uri": "https://localhost:8080/",
          "height": 225
        },
        "id": "4k3k8cCq4IsK",
        "outputId": "cc39c4c9-1ace-4843-8af3-1114407c665b"
      },
      "source": [
        "my_portfolio_df.head()"
      ],
      "execution_count": 41,
      "outputs": [
        {
          "output_type": "execute_result",
          "data": {
            "text/html": [
              "<div>\n",
              "<style scoped>\n",
              "    .dataframe tbody tr th:only-of-type {\n",
              "        vertical-align: middle;\n",
              "    }\n",
              "\n",
              "    .dataframe tbody tr th {\n",
              "        vertical-align: top;\n",
              "    }\n",
              "\n",
              "    .dataframe thead th {\n",
              "        text-align: right;\n",
              "    }\n",
              "</style>\n",
              "<table border=\"1\" class=\"dataframe\">\n",
              "  <thead>\n",
              "    <tr style=\"text-align: right;\">\n",
              "      <th></th>\n",
              "      <th>Open</th>\n",
              "      <th>High</th>\n",
              "      <th>Low</th>\n",
              "      <th>Close</th>\n",
              "      <th>Volume</th>\n",
              "      <th>Dividends</th>\n",
              "      <th>Stock Splits</th>\n",
              "      <th>decision</th>\n",
              "      <th>profit/loss</th>\n",
              "    </tr>\n",
              "    <tr>\n",
              "      <th>Date</th>\n",
              "      <th></th>\n",
              "      <th></th>\n",
              "      <th></th>\n",
              "      <th></th>\n",
              "      <th></th>\n",
              "      <th></th>\n",
              "      <th></th>\n",
              "      <th></th>\n",
              "      <th></th>\n",
              "    </tr>\n",
              "  </thead>\n",
              "  <tbody>\n",
              "    <tr>\n",
              "      <th>2020-06-05</th>\n",
              "      <td>22.299999</td>\n",
              "      <td>22.940001</td>\n",
              "      <td>21.059999</td>\n",
              "      <td>21.510000</td>\n",
              "      <td>113521100</td>\n",
              "      <td>0</td>\n",
              "      <td>0</td>\n",
              "      <td>buy</td>\n",
              "      <td>0.0</td>\n",
              "    </tr>\n",
              "    <tr>\n",
              "      <th>2020-06-08</th>\n",
              "      <td>24.570000</td>\n",
              "      <td>25.280001</td>\n",
              "      <td>23.410000</td>\n",
              "      <td>24.910000</td>\n",
              "      <td>107262900</td>\n",
              "      <td>0</td>\n",
              "      <td>0</td>\n",
              "      <td>sell</td>\n",
              "      <td>3.4</td>\n",
              "    </tr>\n",
              "    <tr>\n",
              "      <th>2020-06-09</th>\n",
              "      <td>23.879999</td>\n",
              "      <td>23.900000</td>\n",
              "      <td>21.930000</td>\n",
              "      <td>23.040001</td>\n",
              "      <td>72547400</td>\n",
              "      <td>0</td>\n",
              "      <td>0</td>\n",
              "      <td>buy</td>\n",
              "      <td>0.0</td>\n",
              "    </tr>\n",
              "    <tr>\n",
              "      <th>2020-06-10</th>\n",
              "      <td>22.200001</td>\n",
              "      <td>22.469999</td>\n",
              "      <td>19.500000</td>\n",
              "      <td>20.590000</td>\n",
              "      <td>82883100</td>\n",
              "      <td>0</td>\n",
              "      <td>0</td>\n",
              "      <td>buy</td>\n",
              "      <td>0.0</td>\n",
              "    </tr>\n",
              "    <tr>\n",
              "      <th>2020-06-11</th>\n",
              "      <td>17.290001</td>\n",
              "      <td>18.990000</td>\n",
              "      <td>16.750000</td>\n",
              "      <td>17.440001</td>\n",
              "      <td>79106600</td>\n",
              "      <td>0</td>\n",
              "      <td>0</td>\n",
              "      <td>buy</td>\n",
              "      <td>0.0</td>\n",
              "    </tr>\n",
              "  </tbody>\n",
              "</table>\n",
              "</div>"
            ],
            "text/plain": [
              "                 Open       High        Low  ...  Stock Splits  decision  profit/loss\n",
              "Date                                         ...                                     \n",
              "2020-06-05  22.299999  22.940001  21.059999  ...             0       buy          0.0\n",
              "2020-06-08  24.570000  25.280001  23.410000  ...             0      sell          3.4\n",
              "2020-06-09  23.879999  23.900000  21.930000  ...             0       buy          0.0\n",
              "2020-06-10  22.200001  22.469999  19.500000  ...             0       buy          0.0\n",
              "2020-06-11  17.290001  18.990000  16.750000  ...             0       buy          0.0\n",
              "\n",
              "[5 rows x 9 columns]"
            ]
          },
          "metadata": {
            "tags": []
          },
          "execution_count": 41
        }
      ]
    },
    {
      "cell_type": "code",
      "metadata": {
        "colab": {
          "base_uri": "https://localhost:8080/"
        },
        "id": "DdFzX7qKkcRz",
        "outputId": "d1c6b651-e9ee-445d-d577-75f291590612"
      },
      "source": [
        "initial_capital = 100000\n",
        "\n",
        "# Set share size\n",
        "share_size = 1000\n",
        "\n",
        "# Calculate the total profit/loss for 500 share size orders\n",
        "total_profit_loss = round(my_portfolio_df[\"profit/loss\"].sum() * share_size, 2)\n",
        "\n",
        "# Calculate the return on investment\n",
        "roi = round((total_profit_loss / initial_capital) * 100, 2)\n",
        "\n",
        "# Print the profit/loss and ROI metrics\n",
        "print(\n",
        "    f\"The total profit/loss of the trading strategy is ${total_profit_loss}, \"\n",
        "    f\"resulting in a return on investment of {roi}%\"\n",
        ")"
      ],
      "execution_count": 42,
      "outputs": [
        {
          "output_type": "stream",
          "text": [
            "The total profit/loss of the trading strategy is $154619.99, resulting in a return on investment of 154.62%\n"
          ],
          "name": "stdout"
        }
      ]
    },
    {
      "cell_type": "code",
      "metadata": {
        "id": "Vwm6YTsWojqP"
      },
      "source": [
        "\n"
      ],
      "execution_count": 42,
      "outputs": []
    },
    {
      "cell_type": "markdown",
      "metadata": {
        "id": "WvsfoYUKZHT9"
      },
      "source": [
        ""
      ]
    },
    {
      "cell_type": "markdown",
      "metadata": {
        "id": "wu0pHby7clfx"
      },
      "source": [
        "Random Forest"
      ]
    },
    {
      "cell_type": "code",
      "metadata": {
        "id": "lUE5e8YrclD-"
      },
      "source": [
        "forest_df = my_portfolio_df.copy()"
      ],
      "execution_count": 43,
      "outputs": []
    },
    {
      "cell_type": "code",
      "metadata": {
        "id": "KWpRrbvtckuH"
      },
      "source": [
        "forest_df.drop(columns = ['Open', 'High', 'Low', 'Dividends','Stock Splits', 'profit/loss', 'Volume'], inplace = True)\n"
      ],
      "execution_count": 44,
      "outputs": []
    },
    {
      "cell_type": "code",
      "metadata": {
        "colab": {
          "base_uri": "https://localhost:8080/",
          "height": 225
        },
        "id": "vH1lW0-jd3W3",
        "outputId": "c6ee0259-3974-46a9-c6bd-d15e6bad98a7"
      },
      "source": [
        "forest_df.head()"
      ],
      "execution_count": 45,
      "outputs": [
        {
          "output_type": "execute_result",
          "data": {
            "text/html": [
              "<div>\n",
              "<style scoped>\n",
              "    .dataframe tbody tr th:only-of-type {\n",
              "        vertical-align: middle;\n",
              "    }\n",
              "\n",
              "    .dataframe tbody tr th {\n",
              "        vertical-align: top;\n",
              "    }\n",
              "\n",
              "    .dataframe thead th {\n",
              "        text-align: right;\n",
              "    }\n",
              "</style>\n",
              "<table border=\"1\" class=\"dataframe\">\n",
              "  <thead>\n",
              "    <tr style=\"text-align: right;\">\n",
              "      <th></th>\n",
              "      <th>Close</th>\n",
              "      <th>decision</th>\n",
              "    </tr>\n",
              "    <tr>\n",
              "      <th>Date</th>\n",
              "      <th></th>\n",
              "      <th></th>\n",
              "    </tr>\n",
              "  </thead>\n",
              "  <tbody>\n",
              "    <tr>\n",
              "      <th>2020-06-05</th>\n",
              "      <td>21.510000</td>\n",
              "      <td>buy</td>\n",
              "    </tr>\n",
              "    <tr>\n",
              "      <th>2020-06-08</th>\n",
              "      <td>24.910000</td>\n",
              "      <td>sell</td>\n",
              "    </tr>\n",
              "    <tr>\n",
              "      <th>2020-06-09</th>\n",
              "      <td>23.040001</td>\n",
              "      <td>buy</td>\n",
              "    </tr>\n",
              "    <tr>\n",
              "      <th>2020-06-10</th>\n",
              "      <td>20.590000</td>\n",
              "      <td>buy</td>\n",
              "    </tr>\n",
              "    <tr>\n",
              "      <th>2020-06-11</th>\n",
              "      <td>17.440001</td>\n",
              "      <td>buy</td>\n",
              "    </tr>\n",
              "  </tbody>\n",
              "</table>\n",
              "</div>"
            ],
            "text/plain": [
              "                Close decision\n",
              "Date                          \n",
              "2020-06-05  21.510000      buy\n",
              "2020-06-08  24.910000     sell\n",
              "2020-06-09  23.040001      buy\n",
              "2020-06-10  20.590000      buy\n",
              "2020-06-11  17.440001      buy"
            ]
          },
          "metadata": {
            "tags": []
          },
          "execution_count": 45
        }
      ]
    },
    {
      "cell_type": "code",
      "metadata": {
        "colab": {
          "base_uri": "https://localhost:8080/",
          "height": 225
        },
        "id": "VXhJ5nrJduTw",
        "outputId": "372d9937-bef3-43fa-e3f0-6bf53b2d9203"
      },
      "source": [
        "forest_df.head()"
      ],
      "execution_count": 46,
      "outputs": [
        {
          "output_type": "execute_result",
          "data": {
            "text/html": [
              "<div>\n",
              "<style scoped>\n",
              "    .dataframe tbody tr th:only-of-type {\n",
              "        vertical-align: middle;\n",
              "    }\n",
              "\n",
              "    .dataframe tbody tr th {\n",
              "        vertical-align: top;\n",
              "    }\n",
              "\n",
              "    .dataframe thead th {\n",
              "        text-align: right;\n",
              "    }\n",
              "</style>\n",
              "<table border=\"1\" class=\"dataframe\">\n",
              "  <thead>\n",
              "    <tr style=\"text-align: right;\">\n",
              "      <th></th>\n",
              "      <th>Close</th>\n",
              "      <th>decision</th>\n",
              "    </tr>\n",
              "    <tr>\n",
              "      <th>Date</th>\n",
              "      <th></th>\n",
              "      <th></th>\n",
              "    </tr>\n",
              "  </thead>\n",
              "  <tbody>\n",
              "    <tr>\n",
              "      <th>2020-06-05</th>\n",
              "      <td>21.510000</td>\n",
              "      <td>buy</td>\n",
              "    </tr>\n",
              "    <tr>\n",
              "      <th>2020-06-08</th>\n",
              "      <td>24.910000</td>\n",
              "      <td>sell</td>\n",
              "    </tr>\n",
              "    <tr>\n",
              "      <th>2020-06-09</th>\n",
              "      <td>23.040001</td>\n",
              "      <td>buy</td>\n",
              "    </tr>\n",
              "    <tr>\n",
              "      <th>2020-06-10</th>\n",
              "      <td>20.590000</td>\n",
              "      <td>buy</td>\n",
              "    </tr>\n",
              "    <tr>\n",
              "      <th>2020-06-11</th>\n",
              "      <td>17.440001</td>\n",
              "      <td>buy</td>\n",
              "    </tr>\n",
              "  </tbody>\n",
              "</table>\n",
              "</div>"
            ],
            "text/plain": [
              "                Close decision\n",
              "Date                          \n",
              "2020-06-05  21.510000      buy\n",
              "2020-06-08  24.910000     sell\n",
              "2020-06-09  23.040001      buy\n",
              "2020-06-10  20.590000      buy\n",
              "2020-06-11  17.440001      buy"
            ]
          },
          "metadata": {
            "tags": []
          },
          "execution_count": 46
        }
      ]
    },
    {
      "cell_type": "code",
      "metadata": {
        "id": "IOPH2jsrduJ6"
      },
      "source": [
        ""
      ],
      "execution_count": 46,
      "outputs": []
    },
    {
      "cell_type": "code",
      "metadata": {
        "id": "d2lzOn0jduB4"
      },
      "source": [
        ""
      ],
      "execution_count": 46,
      "outputs": []
    },
    {
      "cell_type": "code",
      "metadata": {
        "id": "q44Zlyrydt5y"
      },
      "source": [
        ""
      ],
      "execution_count": 46,
      "outputs": []
    },
    {
      "cell_type": "markdown",
      "metadata": {
        "id": "5q-qF2Sro5G9"
      },
      "source": [
        "\n",
        "Test Code (Random Forest Test)\n"
      ]
    },
    {
      "cell_type": "code",
      "metadata": {
        "id": "JLlJQjogoaBd"
      },
      "source": [
        "test_df = my_portfolio_df.copy()\n",
        "test_df.drop(columns = ['Open','High', 'Low'], inplace = True)\n",
        "test_df['daily_return'] = test_df['Close'].dropna().pct_change()"
      ],
      "execution_count": 47,
      "outputs": []
    },
    {
      "cell_type": "code",
      "metadata": {
        "colab": {
          "base_uri": "https://localhost:8080/",
          "height": 346
        },
        "id": "GefBwCTethhr",
        "outputId": "0acf5e90-e1df-4b29-ac25-2edee52d484a"
      },
      "source": [
        "short_window = 1\n",
        "long_window = 10\n",
        "###Closing Prices \n",
        "\n",
        "# Construct a `Fast` and `Slow` Exponential Moving Average from short and long windows, respectively\n",
        "test_df['fast_close'] = test_df['Close'].ewm(halflife=short_window).mean()\n",
        "test_df['slow_close'] = test_df['Close'].ewm(halflife=long_window).mean()\n",
        "\n",
        "# Construct a crossover trading signal\n",
        "test_df['crossover_long'] = np.where(test_df['fast_close'] > test_df['slow_close'], 1.0, 0.0)\n",
        "test_df['crossover_short'] = np.where(test_df['fast_close'] < test_df['slow_close'], -1.0, 0.0)\n",
        "test_df['crossover_signal'] = test_df['crossover_long'] + test_df['crossover_short']\n",
        "\n",
        "\n",
        "###Daily Return\n",
        "# Construct a `Fast` and `Slow` Exponential Moving Average from short and long windows, respectively\n",
        "test_df['fast_vol'] = test_df['daily_return'].ewm(halflife=short_window).std()\n",
        "test_df['slow_vol'] = test_df['daily_return'].ewm(halflife=long_window).std()\n",
        "\n",
        "# Construct a crossover trading signal\n",
        "test_df['vol_trend_long'] = np.where(test_df['fast_vol'] < test_df['slow_vol'], 1.0, 0.0)\n",
        "test_df['vol_trend_short'] = np.where(test_df['fast_vol'] > test_df['slow_vol'], -1.0, 0.0) \n",
        "test_df['vol_trend_signal'] = test_df['vol_trend_long'] + test_df['vol_trend_short']\n",
        "\n",
        "###BollingerBands\n",
        "bollinger_window = 20\n",
        "\n",
        "# Calculate rolling mean and standard deviation\n",
        "test_df['bollinger_mid_band'] = test_df['Close'].rolling(window=bollinger_window).mean()\n",
        "test_df['bollinger_std'] = test_df['Close'].rolling(window=20).std()\n",
        "\n",
        "# Calculate upper and lowers bands of bollinger band\n",
        "test_df['bollinger_upper_band']  = test_df['bollinger_mid_band'] + (test_df['bollinger_std'] * 1)\n",
        "test_df['bollinger_lower_band']  = test_df['bollinger_mid_band'] - (test_df['bollinger_std'] * 1)\n",
        "\n",
        "# Calculate bollinger band trading signal\n",
        "test_df['bollinger_long'] = np.where(test_df['Close'] < test_df['bollinger_lower_band'], 1.0, 0.0)\n",
        "test_df['bollinger_short'] = np.where(test_df['Close'] > test_df['bollinger_upper_band'], -1.0, 0.0)\n",
        "test_df['bollinger_signal'] = test_df['bollinger_long'] + test_df['bollinger_short']\n",
        "\n",
        "test_df.head()"
      ],
      "execution_count": 48,
      "outputs": [
        {
          "output_type": "execute_result",
          "data": {
            "text/html": [
              "<div>\n",
              "<style scoped>\n",
              "    .dataframe tbody tr th:only-of-type {\n",
              "        vertical-align: middle;\n",
              "    }\n",
              "\n",
              "    .dataframe tbody tr th {\n",
              "        vertical-align: top;\n",
              "    }\n",
              "\n",
              "    .dataframe thead th {\n",
              "        text-align: right;\n",
              "    }\n",
              "</style>\n",
              "<table border=\"1\" class=\"dataframe\">\n",
              "  <thead>\n",
              "    <tr style=\"text-align: right;\">\n",
              "      <th></th>\n",
              "      <th>Close</th>\n",
              "      <th>Volume</th>\n",
              "      <th>Dividends</th>\n",
              "      <th>Stock Splits</th>\n",
              "      <th>decision</th>\n",
              "      <th>profit/loss</th>\n",
              "      <th>daily_return</th>\n",
              "      <th>fast_close</th>\n",
              "      <th>slow_close</th>\n",
              "      <th>crossover_long</th>\n",
              "      <th>crossover_short</th>\n",
              "      <th>crossover_signal</th>\n",
              "      <th>fast_vol</th>\n",
              "      <th>slow_vol</th>\n",
              "      <th>vol_trend_long</th>\n",
              "      <th>vol_trend_short</th>\n",
              "      <th>vol_trend_signal</th>\n",
              "      <th>bollinger_mid_band</th>\n",
              "      <th>bollinger_std</th>\n",
              "      <th>bollinger_upper_band</th>\n",
              "      <th>bollinger_lower_band</th>\n",
              "      <th>bollinger_long</th>\n",
              "      <th>bollinger_short</th>\n",
              "      <th>bollinger_signal</th>\n",
              "    </tr>\n",
              "    <tr>\n",
              "      <th>Date</th>\n",
              "      <th></th>\n",
              "      <th></th>\n",
              "      <th></th>\n",
              "      <th></th>\n",
              "      <th></th>\n",
              "      <th></th>\n",
              "      <th></th>\n",
              "      <th></th>\n",
              "      <th></th>\n",
              "      <th></th>\n",
              "      <th></th>\n",
              "      <th></th>\n",
              "      <th></th>\n",
              "      <th></th>\n",
              "      <th></th>\n",
              "      <th></th>\n",
              "      <th></th>\n",
              "      <th></th>\n",
              "      <th></th>\n",
              "      <th></th>\n",
              "      <th></th>\n",
              "      <th></th>\n",
              "      <th></th>\n",
              "      <th></th>\n",
              "    </tr>\n",
              "  </thead>\n",
              "  <tbody>\n",
              "    <tr>\n",
              "      <th>2020-06-05</th>\n",
              "      <td>21.510000</td>\n",
              "      <td>113521100</td>\n",
              "      <td>0</td>\n",
              "      <td>0</td>\n",
              "      <td>buy</td>\n",
              "      <td>0.0</td>\n",
              "      <td>NaN</td>\n",
              "      <td>21.510000</td>\n",
              "      <td>21.510000</td>\n",
              "      <td>0.0</td>\n",
              "      <td>0.0</td>\n",
              "      <td>0.0</td>\n",
              "      <td>NaN</td>\n",
              "      <td>NaN</td>\n",
              "      <td>0.0</td>\n",
              "      <td>0.0</td>\n",
              "      <td>0.0</td>\n",
              "      <td>NaN</td>\n",
              "      <td>NaN</td>\n",
              "      <td>NaN</td>\n",
              "      <td>NaN</td>\n",
              "      <td>0.0</td>\n",
              "      <td>0.0</td>\n",
              "      <td>0.0</td>\n",
              "    </tr>\n",
              "    <tr>\n",
              "      <th>2020-06-08</th>\n",
              "      <td>24.910000</td>\n",
              "      <td>107262900</td>\n",
              "      <td>0</td>\n",
              "      <td>0</td>\n",
              "      <td>sell</td>\n",
              "      <td>3.4</td>\n",
              "      <td>0.158066</td>\n",
              "      <td>23.776667</td>\n",
              "      <td>23.268894</td>\n",
              "      <td>1.0</td>\n",
              "      <td>0.0</td>\n",
              "      <td>1.0</td>\n",
              "      <td>NaN</td>\n",
              "      <td>NaN</td>\n",
              "      <td>0.0</td>\n",
              "      <td>0.0</td>\n",
              "      <td>0.0</td>\n",
              "      <td>NaN</td>\n",
              "      <td>NaN</td>\n",
              "      <td>NaN</td>\n",
              "      <td>NaN</td>\n",
              "      <td>0.0</td>\n",
              "      <td>0.0</td>\n",
              "      <td>0.0</td>\n",
              "    </tr>\n",
              "    <tr>\n",
              "      <th>2020-06-09</th>\n",
              "      <td>23.040001</td>\n",
              "      <td>72547400</td>\n",
              "      <td>0</td>\n",
              "      <td>0</td>\n",
              "      <td>buy</td>\n",
              "      <td>0.0</td>\n",
              "      <td>-0.075070</td>\n",
              "      <td>23.355715</td>\n",
              "      <td>23.187251</td>\n",
              "      <td>1.0</td>\n",
              "      <td>0.0</td>\n",
              "      <td>1.0</td>\n",
              "      <td>0.164852</td>\n",
              "      <td>0.164852</td>\n",
              "      <td>0.0</td>\n",
              "      <td>0.0</td>\n",
              "      <td>0.0</td>\n",
              "      <td>NaN</td>\n",
              "      <td>NaN</td>\n",
              "      <td>NaN</td>\n",
              "      <td>NaN</td>\n",
              "      <td>0.0</td>\n",
              "      <td>0.0</td>\n",
              "      <td>0.0</td>\n",
              "    </tr>\n",
              "    <tr>\n",
              "      <th>2020-06-10</th>\n",
              "      <td>20.590000</td>\n",
              "      <td>82883100</td>\n",
              "      <td>0</td>\n",
              "      <td>0</td>\n",
              "      <td>buy</td>\n",
              "      <td>0.0</td>\n",
              "      <td>-0.106337</td>\n",
              "      <td>21.880667</td>\n",
              "      <td>22.468952</td>\n",
              "      <td>0.0</td>\n",
              "      <td>-1.0</td>\n",
              "      <td>-1.0</td>\n",
              "      <td>0.118948</td>\n",
              "      <td>0.142288</td>\n",
              "      <td>1.0</td>\n",
              "      <td>0.0</td>\n",
              "      <td>1.0</td>\n",
              "      <td>NaN</td>\n",
              "      <td>NaN</td>\n",
              "      <td>NaN</td>\n",
              "      <td>NaN</td>\n",
              "      <td>0.0</td>\n",
              "      <td>0.0</td>\n",
              "      <td>0.0</td>\n",
              "    </tr>\n",
              "    <tr>\n",
              "      <th>2020-06-11</th>\n",
              "      <td>17.440001</td>\n",
              "      <td>79106600</td>\n",
              "      <td>0</td>\n",
              "      <td>0</td>\n",
              "      <td>buy</td>\n",
              "      <td>0.0</td>\n",
              "      <td>-0.152987</td>\n",
              "      <td>19.588710</td>\n",
              "      <td>21.319134</td>\n",
              "      <td>0.0</td>\n",
              "      <td>-1.0</td>\n",
              "      <td>-1.0</td>\n",
              "      <td>0.097723</td>\n",
              "      <td>0.134909</td>\n",
              "      <td>1.0</td>\n",
              "      <td>0.0</td>\n",
              "      <td>1.0</td>\n",
              "      <td>NaN</td>\n",
              "      <td>NaN</td>\n",
              "      <td>NaN</td>\n",
              "      <td>NaN</td>\n",
              "      <td>0.0</td>\n",
              "      <td>0.0</td>\n",
              "      <td>0.0</td>\n",
              "    </tr>\n",
              "  </tbody>\n",
              "</table>\n",
              "</div>"
            ],
            "text/plain": [
              "                Close     Volume  ...  bollinger_short  bollinger_signal\n",
              "Date                              ...                                   \n",
              "2020-06-05  21.510000  113521100  ...              0.0               0.0\n",
              "2020-06-08  24.910000  107262900  ...              0.0               0.0\n",
              "2020-06-09  23.040001   72547400  ...              0.0               0.0\n",
              "2020-06-10  20.590000   82883100  ...              0.0               0.0\n",
              "2020-06-11  17.440001   79106600  ...              0.0               0.0\n",
              "\n",
              "[5 rows x 24 columns]"
            ]
          },
          "metadata": {
            "tags": []
          },
          "execution_count": 48
        }
      ]
    },
    {
      "cell_type": "code",
      "metadata": {
        "colab": {
          "base_uri": "https://localhost:8080/",
          "height": 225
        },
        "id": "8TrtEUbJthdn",
        "outputId": "990ac8da-518a-4c28-b1d1-22d05ea34dd2"
      },
      "source": [
        "#creating new data frame for machine learning\n",
        "ml_df = pd.concat([test_df['crossover_signal'], test_df['vol_trend_signal'], test_df['bollinger_signal'], test_df['daily_return']], axis=1, join = 'inner' )\n",
        "ml_df.head()"
      ],
      "execution_count": 53,
      "outputs": [
        {
          "output_type": "execute_result",
          "data": {
            "text/html": [
              "<div>\n",
              "<style scoped>\n",
              "    .dataframe tbody tr th:only-of-type {\n",
              "        vertical-align: middle;\n",
              "    }\n",
              "\n",
              "    .dataframe tbody tr th {\n",
              "        vertical-align: top;\n",
              "    }\n",
              "\n",
              "    .dataframe thead th {\n",
              "        text-align: right;\n",
              "    }\n",
              "</style>\n",
              "<table border=\"1\" class=\"dataframe\">\n",
              "  <thead>\n",
              "    <tr style=\"text-align: right;\">\n",
              "      <th></th>\n",
              "      <th>crossover_signal</th>\n",
              "      <th>vol_trend_signal</th>\n",
              "      <th>bollinger_signal</th>\n",
              "      <th>daily_return</th>\n",
              "    </tr>\n",
              "    <tr>\n",
              "      <th>Date</th>\n",
              "      <th></th>\n",
              "      <th></th>\n",
              "      <th></th>\n",
              "      <th></th>\n",
              "    </tr>\n",
              "  </thead>\n",
              "  <tbody>\n",
              "    <tr>\n",
              "      <th>2020-06-05</th>\n",
              "      <td>0.0</td>\n",
              "      <td>0.0</td>\n",
              "      <td>0.0</td>\n",
              "      <td>NaN</td>\n",
              "    </tr>\n",
              "    <tr>\n",
              "      <th>2020-06-08</th>\n",
              "      <td>1.0</td>\n",
              "      <td>0.0</td>\n",
              "      <td>0.0</td>\n",
              "      <td>0.158066</td>\n",
              "    </tr>\n",
              "    <tr>\n",
              "      <th>2020-06-09</th>\n",
              "      <td>1.0</td>\n",
              "      <td>0.0</td>\n",
              "      <td>0.0</td>\n",
              "      <td>-0.075070</td>\n",
              "    </tr>\n",
              "    <tr>\n",
              "      <th>2020-06-10</th>\n",
              "      <td>-1.0</td>\n",
              "      <td>1.0</td>\n",
              "      <td>0.0</td>\n",
              "      <td>-0.106337</td>\n",
              "    </tr>\n",
              "    <tr>\n",
              "      <th>2020-06-11</th>\n",
              "      <td>-1.0</td>\n",
              "      <td>1.0</td>\n",
              "      <td>0.0</td>\n",
              "      <td>-0.152987</td>\n",
              "    </tr>\n",
              "  </tbody>\n",
              "</table>\n",
              "</div>"
            ],
            "text/plain": [
              "            crossover_signal  vol_trend_signal  bollinger_signal  daily_return\n",
              "Date                                                                          \n",
              "2020-06-05               0.0               0.0               0.0           NaN\n",
              "2020-06-08               1.0               0.0               0.0      0.158066\n",
              "2020-06-09               1.0               0.0               0.0     -0.075070\n",
              "2020-06-10              -1.0               1.0               0.0     -0.106337\n",
              "2020-06-11              -1.0               1.0               0.0     -0.152987"
            ]
          },
          "metadata": {
            "tags": []
          },
          "execution_count": 53
        }
      ]
    },
    {
      "cell_type": "code",
      "metadata": {
        "id": "HPvGVNYToyqg",
        "colab": {
          "base_uri": "https://localhost:8080/",
          "height": 225
        },
        "outputId": "08b4fb06-09e6-41e2-f144-33788580c1f9"
      },
      "source": [
        "x_var_list = ['crossover_signal', 'vol_trend_signal', 'bollinger_signal']\n",
        "\n",
        "ml_df[x_var_list].tail()"
      ],
      "execution_count": 54,
      "outputs": [
        {
          "output_type": "execute_result",
          "data": {
            "text/html": [
              "<div>\n",
              "<style scoped>\n",
              "    .dataframe tbody tr th:only-of-type {\n",
              "        vertical-align: middle;\n",
              "    }\n",
              "\n",
              "    .dataframe tbody tr th {\n",
              "        vertical-align: top;\n",
              "    }\n",
              "\n",
              "    .dataframe thead th {\n",
              "        text-align: right;\n",
              "    }\n",
              "</style>\n",
              "<table border=\"1\" class=\"dataframe\">\n",
              "  <thead>\n",
              "    <tr style=\"text-align: right;\">\n",
              "      <th></th>\n",
              "      <th>crossover_signal</th>\n",
              "      <th>vol_trend_signal</th>\n",
              "      <th>bollinger_signal</th>\n",
              "    </tr>\n",
              "    <tr>\n",
              "      <th>Date</th>\n",
              "      <th></th>\n",
              "      <th></th>\n",
              "      <th></th>\n",
              "    </tr>\n",
              "  </thead>\n",
              "  <tbody>\n",
              "    <tr>\n",
              "      <th>2021-05-28</th>\n",
              "      <td>1.0</td>\n",
              "      <td>1.0</td>\n",
              "      <td>-1.0</td>\n",
              "    </tr>\n",
              "    <tr>\n",
              "      <th>2021-06-01</th>\n",
              "      <td>1.0</td>\n",
              "      <td>1.0</td>\n",
              "      <td>-1.0</td>\n",
              "    </tr>\n",
              "    <tr>\n",
              "      <th>2021-06-02</th>\n",
              "      <td>1.0</td>\n",
              "      <td>1.0</td>\n",
              "      <td>-1.0</td>\n",
              "    </tr>\n",
              "    <tr>\n",
              "      <th>2021-06-03</th>\n",
              "      <td>1.0</td>\n",
              "      <td>-1.0</td>\n",
              "      <td>-1.0</td>\n",
              "    </tr>\n",
              "    <tr>\n",
              "      <th>2021-06-04</th>\n",
              "      <td>1.0</td>\n",
              "      <td>1.0</td>\n",
              "      <td>-1.0</td>\n",
              "    </tr>\n",
              "  </tbody>\n",
              "</table>\n",
              "</div>"
            ],
            "text/plain": [
              "            crossover_signal  vol_trend_signal  bollinger_signal\n",
              "Date                                                            \n",
              "2021-05-28               1.0               1.0              -1.0\n",
              "2021-06-01               1.0               1.0              -1.0\n",
              "2021-06-02               1.0               1.0              -1.0\n",
              "2021-06-03               1.0              -1.0              -1.0\n",
              "2021-06-04               1.0               1.0              -1.0"
            ]
          },
          "metadata": {
            "tags": []
          },
          "execution_count": 54
        }
      ]
    },
    {
      "cell_type": "code",
      "metadata": {
        "id": "uUn60neUthQT",
        "colab": {
          "base_uri": "https://localhost:8080/",
          "height": 225
        },
        "outputId": "26d4cd86-24d1-49b8-fbde-984a7e43bffa"
      },
      "source": [
        "ml_df[x_var_list] = ml_df[x_var_list].shift(1)\n",
        "ml_df[x_var_list].tail()"
      ],
      "execution_count": 55,
      "outputs": [
        {
          "output_type": "execute_result",
          "data": {
            "text/html": [
              "<div>\n",
              "<style scoped>\n",
              "    .dataframe tbody tr th:only-of-type {\n",
              "        vertical-align: middle;\n",
              "    }\n",
              "\n",
              "    .dataframe tbody tr th {\n",
              "        vertical-align: top;\n",
              "    }\n",
              "\n",
              "    .dataframe thead th {\n",
              "        text-align: right;\n",
              "    }\n",
              "</style>\n",
              "<table border=\"1\" class=\"dataframe\">\n",
              "  <thead>\n",
              "    <tr style=\"text-align: right;\">\n",
              "      <th></th>\n",
              "      <th>crossover_signal</th>\n",
              "      <th>vol_trend_signal</th>\n",
              "      <th>bollinger_signal</th>\n",
              "    </tr>\n",
              "    <tr>\n",
              "      <th>Date</th>\n",
              "      <th></th>\n",
              "      <th></th>\n",
              "      <th></th>\n",
              "    </tr>\n",
              "  </thead>\n",
              "  <tbody>\n",
              "    <tr>\n",
              "      <th>2021-05-28</th>\n",
              "      <td>1.0</td>\n",
              "      <td>1.0</td>\n",
              "      <td>-1.0</td>\n",
              "    </tr>\n",
              "    <tr>\n",
              "      <th>2021-06-01</th>\n",
              "      <td>1.0</td>\n",
              "      <td>1.0</td>\n",
              "      <td>-1.0</td>\n",
              "    </tr>\n",
              "    <tr>\n",
              "      <th>2021-06-02</th>\n",
              "      <td>1.0</td>\n",
              "      <td>1.0</td>\n",
              "      <td>-1.0</td>\n",
              "    </tr>\n",
              "    <tr>\n",
              "      <th>2021-06-03</th>\n",
              "      <td>1.0</td>\n",
              "      <td>1.0</td>\n",
              "      <td>-1.0</td>\n",
              "    </tr>\n",
              "    <tr>\n",
              "      <th>2021-06-04</th>\n",
              "      <td>1.0</td>\n",
              "      <td>-1.0</td>\n",
              "      <td>-1.0</td>\n",
              "    </tr>\n",
              "  </tbody>\n",
              "</table>\n",
              "</div>"
            ],
            "text/plain": [
              "            crossover_signal  vol_trend_signal  bollinger_signal\n",
              "Date                                                            \n",
              "2021-05-28               1.0               1.0              -1.0\n",
              "2021-06-01               1.0               1.0              -1.0\n",
              "2021-06-02               1.0               1.0              -1.0\n",
              "2021-06-03               1.0               1.0              -1.0\n",
              "2021-06-04               1.0              -1.0              -1.0"
            ]
          },
          "metadata": {
            "tags": []
          },
          "execution_count": 55
        }
      ]
    },
    {
      "cell_type": "code",
      "metadata": {
        "id": "bTmtS4UBthDK",
        "colab": {
          "base_uri": "https://localhost:8080/",
          "height": 225
        },
        "outputId": "00c42265-9af2-4800-9cd2-1aa491cc162f"
      },
      "source": [
        "ml_df.dropna(subset=x_var_list, inplace=True)\n",
        "ml_df.dropna(subset=['daily_return'], inplace=True)\n",
        "ml_df = ml_df.replace([np.inf, -np.inf], np.nan)\n",
        "ml_df.head()"
      ],
      "execution_count": 56,
      "outputs": [
        {
          "output_type": "execute_result",
          "data": {
            "text/html": [
              "<div>\n",
              "<style scoped>\n",
              "    .dataframe tbody tr th:only-of-type {\n",
              "        vertical-align: middle;\n",
              "    }\n",
              "\n",
              "    .dataframe tbody tr th {\n",
              "        vertical-align: top;\n",
              "    }\n",
              "\n",
              "    .dataframe thead th {\n",
              "        text-align: right;\n",
              "    }\n",
              "</style>\n",
              "<table border=\"1\" class=\"dataframe\">\n",
              "  <thead>\n",
              "    <tr style=\"text-align: right;\">\n",
              "      <th></th>\n",
              "      <th>crossover_signal</th>\n",
              "      <th>vol_trend_signal</th>\n",
              "      <th>bollinger_signal</th>\n",
              "      <th>daily_return</th>\n",
              "    </tr>\n",
              "    <tr>\n",
              "      <th>Date</th>\n",
              "      <th></th>\n",
              "      <th></th>\n",
              "      <th></th>\n",
              "      <th></th>\n",
              "    </tr>\n",
              "  </thead>\n",
              "  <tbody>\n",
              "    <tr>\n",
              "      <th>2020-06-08</th>\n",
              "      <td>0.0</td>\n",
              "      <td>0.0</td>\n",
              "      <td>0.0</td>\n",
              "      <td>0.158066</td>\n",
              "    </tr>\n",
              "    <tr>\n",
              "      <th>2020-06-09</th>\n",
              "      <td>1.0</td>\n",
              "      <td>0.0</td>\n",
              "      <td>0.0</td>\n",
              "      <td>-0.075070</td>\n",
              "    </tr>\n",
              "    <tr>\n",
              "      <th>2020-06-10</th>\n",
              "      <td>1.0</td>\n",
              "      <td>0.0</td>\n",
              "      <td>0.0</td>\n",
              "      <td>-0.106337</td>\n",
              "    </tr>\n",
              "    <tr>\n",
              "      <th>2020-06-11</th>\n",
              "      <td>-1.0</td>\n",
              "      <td>1.0</td>\n",
              "      <td>0.0</td>\n",
              "      <td>-0.152987</td>\n",
              "    </tr>\n",
              "    <tr>\n",
              "      <th>2020-06-12</th>\n",
              "      <td>-1.0</td>\n",
              "      <td>1.0</td>\n",
              "      <td>0.0</td>\n",
              "      <td>0.145642</td>\n",
              "    </tr>\n",
              "  </tbody>\n",
              "</table>\n",
              "</div>"
            ],
            "text/plain": [
              "            crossover_signal  vol_trend_signal  bollinger_signal  daily_return\n",
              "Date                                                                          \n",
              "2020-06-08               0.0               0.0               0.0      0.158066\n",
              "2020-06-09               1.0               0.0               0.0     -0.075070\n",
              "2020-06-10               1.0               0.0               0.0     -0.106337\n",
              "2020-06-11              -1.0               1.0               0.0     -0.152987\n",
              "2020-06-12              -1.0               1.0               0.0      0.145642"
            ]
          },
          "metadata": {
            "tags": []
          },
          "execution_count": 56
        }
      ]
    },
    {
      "cell_type": "code",
      "metadata": {
        "colab": {
          "base_uri": "https://localhost:8080/",
          "height": 431
        },
        "id": "NM6MwbrMCUtl",
        "outputId": "27a3e876-a696-45fa-93e3-aef78b1252b1"
      },
      "source": [
        "ml_df['Positive Return'] = np.where(ml_df['daily_return'] > 0, 1.0, 0.0)\n",
        "ml_df"
      ],
      "execution_count": 57,
      "outputs": [
        {
          "output_type": "execute_result",
          "data": {
            "text/html": [
              "<div>\n",
              "<style scoped>\n",
              "    .dataframe tbody tr th:only-of-type {\n",
              "        vertical-align: middle;\n",
              "    }\n",
              "\n",
              "    .dataframe tbody tr th {\n",
              "        vertical-align: top;\n",
              "    }\n",
              "\n",
              "    .dataframe thead th {\n",
              "        text-align: right;\n",
              "    }\n",
              "</style>\n",
              "<table border=\"1\" class=\"dataframe\">\n",
              "  <thead>\n",
              "    <tr style=\"text-align: right;\">\n",
              "      <th></th>\n",
              "      <th>crossover_signal</th>\n",
              "      <th>vol_trend_signal</th>\n",
              "      <th>bollinger_signal</th>\n",
              "      <th>daily_return</th>\n",
              "      <th>Positive Return</th>\n",
              "    </tr>\n",
              "    <tr>\n",
              "      <th>Date</th>\n",
              "      <th></th>\n",
              "      <th></th>\n",
              "      <th></th>\n",
              "      <th></th>\n",
              "      <th></th>\n",
              "    </tr>\n",
              "  </thead>\n",
              "  <tbody>\n",
              "    <tr>\n",
              "      <th>2020-06-08</th>\n",
              "      <td>0.0</td>\n",
              "      <td>0.0</td>\n",
              "      <td>0.0</td>\n",
              "      <td>0.158066</td>\n",
              "      <td>1.0</td>\n",
              "    </tr>\n",
              "    <tr>\n",
              "      <th>2020-06-09</th>\n",
              "      <td>1.0</td>\n",
              "      <td>0.0</td>\n",
              "      <td>0.0</td>\n",
              "      <td>-0.075070</td>\n",
              "      <td>0.0</td>\n",
              "    </tr>\n",
              "    <tr>\n",
              "      <th>2020-06-10</th>\n",
              "      <td>1.0</td>\n",
              "      <td>0.0</td>\n",
              "      <td>0.0</td>\n",
              "      <td>-0.106337</td>\n",
              "      <td>0.0</td>\n",
              "    </tr>\n",
              "    <tr>\n",
              "      <th>2020-06-11</th>\n",
              "      <td>-1.0</td>\n",
              "      <td>1.0</td>\n",
              "      <td>0.0</td>\n",
              "      <td>-0.152987</td>\n",
              "      <td>0.0</td>\n",
              "    </tr>\n",
              "    <tr>\n",
              "      <th>2020-06-12</th>\n",
              "      <td>-1.0</td>\n",
              "      <td>1.0</td>\n",
              "      <td>0.0</td>\n",
              "      <td>0.145642</td>\n",
              "      <td>1.0</td>\n",
              "    </tr>\n",
              "    <tr>\n",
              "      <th>...</th>\n",
              "      <td>...</td>\n",
              "      <td>...</td>\n",
              "      <td>...</td>\n",
              "      <td>...</td>\n",
              "      <td>...</td>\n",
              "    </tr>\n",
              "    <tr>\n",
              "      <th>2021-05-28</th>\n",
              "      <td>1.0</td>\n",
              "      <td>1.0</td>\n",
              "      <td>-1.0</td>\n",
              "      <td>-0.014667</td>\n",
              "      <td>0.0</td>\n",
              "    </tr>\n",
              "    <tr>\n",
              "      <th>2021-06-01</th>\n",
              "      <td>1.0</td>\n",
              "      <td>1.0</td>\n",
              "      <td>-1.0</td>\n",
              "      <td>0.019959</td>\n",
              "      <td>1.0</td>\n",
              "    </tr>\n",
              "    <tr>\n",
              "      <th>2021-06-02</th>\n",
              "      <td>1.0</td>\n",
              "      <td>1.0</td>\n",
              "      <td>-1.0</td>\n",
              "      <td>0.038474</td>\n",
              "      <td>1.0</td>\n",
              "    </tr>\n",
              "    <tr>\n",
              "      <th>2021-06-03</th>\n",
              "      <td>1.0</td>\n",
              "      <td>1.0</td>\n",
              "      <td>-1.0</td>\n",
              "      <td>-0.020441</td>\n",
              "      <td>0.0</td>\n",
              "    </tr>\n",
              "    <tr>\n",
              "      <th>2021-06-04</th>\n",
              "      <td>1.0</td>\n",
              "      <td>-1.0</td>\n",
              "      <td>-1.0</td>\n",
              "      <td>-0.004239</td>\n",
              "      <td>0.0</td>\n",
              "    </tr>\n",
              "  </tbody>\n",
              "</table>\n",
              "<p>251 rows × 5 columns</p>\n",
              "</div>"
            ],
            "text/plain": [
              "            crossover_signal  vol_trend_signal  ...  daily_return  Positive Return\n",
              "Date                                            ...                               \n",
              "2020-06-08               0.0               0.0  ...      0.158066              1.0\n",
              "2020-06-09               1.0               0.0  ...     -0.075070              0.0\n",
              "2020-06-10               1.0               0.0  ...     -0.106337              0.0\n",
              "2020-06-11              -1.0               1.0  ...     -0.152987              0.0\n",
              "2020-06-12              -1.0               1.0  ...      0.145642              1.0\n",
              "...                      ...               ...  ...           ...              ...\n",
              "2021-05-28               1.0               1.0  ...     -0.014667              0.0\n",
              "2021-06-01               1.0               1.0  ...      0.019959              1.0\n",
              "2021-06-02               1.0               1.0  ...      0.038474              1.0\n",
              "2021-06-03               1.0               1.0  ...     -0.020441              0.0\n",
              "2021-06-04               1.0              -1.0  ...     -0.004239              0.0\n",
              "\n",
              "[251 rows x 5 columns]"
            ]
          },
          "metadata": {
            "tags": []
          },
          "execution_count": 57
        }
      ]
    },
    {
      "cell_type": "code",
      "metadata": {
        "colab": {
          "base_uri": "https://localhost:8080/"
        },
        "id": "1YYKFAYyCUol",
        "outputId": "64fe6aae-6aef-48f0-c561-df15aa4f2026"
      },
      "source": [
        "training_start = ml_df.index.min().strftime(format= '%Y-%m-%d')\n",
        "training_end = '2021-01-04'\n",
        "\n",
        "# Construct testing start and end dates\n",
        "testing_start =  '2021-01-05'\n",
        "testing_end = ml_df.index.max().strftime(format= '%Y-%m-%d')\n",
        "\n",
        "# Print training and testing start/end dates\n",
        "print(f\"Training Start: {training_start}\")\n",
        "print(f\"Training End: {training_end}\")\n",
        "print(f\"Testing Start: {testing_start}\")\n",
        "print(f\"Testing End: {testing_end}\")"
      ],
      "execution_count": 59,
      "outputs": [
        {
          "output_type": "stream",
          "text": [
            "Training Start: 2020-06-08\n",
            "Training End: 2021-01-04\n",
            "Testing Start: 2021-01-05\n",
            "Testing End: 2021-06-04\n"
          ],
          "name": "stdout"
        }
      ]
    },
    {
      "cell_type": "code",
      "metadata": {
        "id": "u4VinJRNCUit"
      },
      "source": [
        "x_train = ml_df[x_var_list][training_start:training_end]\n",
        "y_train = ml_df['Positive Return'][training_start:training_end]"
      ],
      "execution_count": 63,
      "outputs": []
    },
    {
      "cell_type": "code",
      "metadata": {
        "id": "NVSTpwjoCUdz"
      },
      "source": [
        "x_test = ml_df[x_var_list][testing_start:testing_end]\n",
        "y_test = ml_df['Positive Return'][testing_start:testing_end]"
      ],
      "execution_count": 62,
      "outputs": []
    },
    {
      "cell_type": "code",
      "metadata": {
        "id": "6TXu0yaZCUU2"
      },
      "source": [
        "from sklearn.ensemble import RandomForestClassifier\n",
        "from sklearn.datasets import make_classification"
      ],
      "execution_count": 64,
      "outputs": []
    },
    {
      "cell_type": "code",
      "metadata": {
        "colab": {
          "base_uri": "https://localhost:8080/",
          "height": 431
        },
        "id": "ABoNmx5lDVCr",
        "outputId": "55cf5020-3bdb-4ea9-e911-738f971d76fd"
      },
      "source": [
        "model = RandomForestClassifier(n_estimators=100, max_depth=3, random_state=0)\n",
        "model.fit(x_train, y_train)\n",
        "\n",
        "# Make a prediction of \"y\" values from the X_test dataset\n",
        "predictions = model.predict(x_test)\n",
        "\n",
        "# Assemble actual y data (Y_test) with predicted y data (from just above) into two columns in a dataframe:\n",
        "Results = y_test.to_frame()\n",
        "Results[\"Predicted Value\"] = predictions\n",
        "Results"
      ],
      "execution_count": 66,
      "outputs": [
        {
          "output_type": "execute_result",
          "data": {
            "text/html": [
              "<div>\n",
              "<style scoped>\n",
              "    .dataframe tbody tr th:only-of-type {\n",
              "        vertical-align: middle;\n",
              "    }\n",
              "\n",
              "    .dataframe tbody tr th {\n",
              "        vertical-align: top;\n",
              "    }\n",
              "\n",
              "    .dataframe thead th {\n",
              "        text-align: right;\n",
              "    }\n",
              "</style>\n",
              "<table border=\"1\" class=\"dataframe\">\n",
              "  <thead>\n",
              "    <tr style=\"text-align: right;\">\n",
              "      <th></th>\n",
              "      <th>Positive Return</th>\n",
              "      <th>Predicted Value</th>\n",
              "    </tr>\n",
              "    <tr>\n",
              "      <th>Date</th>\n",
              "      <th></th>\n",
              "      <th></th>\n",
              "    </tr>\n",
              "  </thead>\n",
              "  <tbody>\n",
              "    <tr>\n",
              "      <th>2021-01-05</th>\n",
              "      <td>1.0</td>\n",
              "      <td>1.0</td>\n",
              "    </tr>\n",
              "    <tr>\n",
              "      <th>2021-01-06</th>\n",
              "      <td>0.0</td>\n",
              "      <td>1.0</td>\n",
              "    </tr>\n",
              "    <tr>\n",
              "      <th>2021-01-07</th>\n",
              "      <td>1.0</td>\n",
              "      <td>1.0</td>\n",
              "    </tr>\n",
              "    <tr>\n",
              "      <th>2021-01-08</th>\n",
              "      <td>0.0</td>\n",
              "      <td>0.0</td>\n",
              "    </tr>\n",
              "    <tr>\n",
              "      <th>2021-01-11</th>\n",
              "      <td>0.0</td>\n",
              "      <td>1.0</td>\n",
              "    </tr>\n",
              "    <tr>\n",
              "      <th>...</th>\n",
              "      <td>...</td>\n",
              "      <td>...</td>\n",
              "    </tr>\n",
              "    <tr>\n",
              "      <th>2021-05-28</th>\n",
              "      <td>0.0</td>\n",
              "      <td>0.0</td>\n",
              "    </tr>\n",
              "    <tr>\n",
              "      <th>2021-06-01</th>\n",
              "      <td>1.0</td>\n",
              "      <td>0.0</td>\n",
              "    </tr>\n",
              "    <tr>\n",
              "      <th>2021-06-02</th>\n",
              "      <td>1.0</td>\n",
              "      <td>0.0</td>\n",
              "    </tr>\n",
              "    <tr>\n",
              "      <th>2021-06-03</th>\n",
              "      <td>0.0</td>\n",
              "      <td>0.0</td>\n",
              "    </tr>\n",
              "    <tr>\n",
              "      <th>2021-06-04</th>\n",
              "      <td>0.0</td>\n",
              "      <td>0.0</td>\n",
              "    </tr>\n",
              "  </tbody>\n",
              "</table>\n",
              "<p>105 rows × 2 columns</p>\n",
              "</div>"
            ],
            "text/plain": [
              "            Positive Return  Predicted Value\n",
              "Date                                        \n",
              "2021-01-05              1.0              1.0\n",
              "2021-01-06              0.0              1.0\n",
              "2021-01-07              1.0              1.0\n",
              "2021-01-08              0.0              0.0\n",
              "2021-01-11              0.0              1.0\n",
              "...                     ...              ...\n",
              "2021-05-28              0.0              0.0\n",
              "2021-06-01              1.0              0.0\n",
              "2021-06-02              1.0              0.0\n",
              "2021-06-03              0.0              0.0\n",
              "2021-06-04              0.0              0.0\n",
              "\n",
              "[105 rows x 2 columns]"
            ]
          },
          "metadata": {
            "tags": []
          },
          "execution_count": 66
        }
      ]
    },
    {
      "cell_type": "code",
      "metadata": {
        "colab": {
          "base_uri": "https://localhost:8080/"
        },
        "id": "8lNOnMaiDU-Q",
        "outputId": "335b6727-c0e3-4927-ff6d-c77c6048ae8a"
      },
      "source": [
        "from sklearn.metrics import confusion_matrix\n",
        "confusion_matrix(y_test, predictions)"
      ],
      "execution_count": 68,
      "outputs": [
        {
          "output_type": "execute_result",
          "data": {
            "text/plain": [
              "array([[40, 11],\n",
              "       [44, 10]])"
            ]
          },
          "metadata": {
            "tags": []
          },
          "execution_count": 68
        }
      ]
    },
    {
      "cell_type": "markdown",
      "metadata": {
        "id": "RIT5M2LbFFAC"
      },
      "source": [
        "True Negatives: 40\n",
        "\n",
        "True Postives: 10\n",
        "\n",
        "False Negatives: 44\n",
        "\n",
        "False Positves: 11"
      ]
    },
    {
      "cell_type": "code",
      "metadata": {
        "colab": {
          "base_uri": "https://localhost:8080/"
        },
        "id": "4-jWo_0NDU6D",
        "outputId": "cf13c157-219f-4998-f1b7-cbb1853eb6cd"
      },
      "source": [
        "from sklearn.metrics import classification_report\n",
        "target_names = ['Sell', 'Buy']\n",
        "print(classification_report(y_test, predictions, target_names = target_names))"
      ],
      "execution_count": 72,
      "outputs": [
        {
          "output_type": "stream",
          "text": [
            "              precision    recall  f1-score   support\n",
            "\n",
            "        Sell       0.48      0.78      0.59        51\n",
            "         Buy       0.48      0.19      0.27        54\n",
            "\n",
            "    accuracy                           0.48       105\n",
            "   macro avg       0.48      0.48      0.43       105\n",
            "weighted avg       0.48      0.48      0.42       105\n",
            "\n"
          ],
          "name": "stdout"
        }
      ]
    },
    {
      "cell_type": "code",
      "metadata": {
        "id": "nuZ1ueLxDU1Q"
      },
      "source": [
        ""
      ],
      "execution_count": null,
      "outputs": []
    },
    {
      "cell_type": "code",
      "metadata": {
        "id": "gnv3HwpqsnWM",
        "colab": {
          "base_uri": "https://localhost:8080/",
          "height": 128
        },
        "outputId": "d882fb83-734c-4e9e-e25c-b9f092b12639"
      },
      "source": [
        "Word Clouds"
      ],
      "execution_count": null,
      "outputs": [
        {
          "output_type": "error",
          "ename": "SyntaxError",
          "evalue": "ignored",
          "traceback": [
            "\u001b[0;36m  File \u001b[0;32m\"<ipython-input-42-ddd94b79ac99>\"\u001b[0;36m, line \u001b[0;32m1\u001b[0m\n\u001b[0;31m    Word Clouds\u001b[0m\n\u001b[0m              ^\u001b[0m\n\u001b[0;31mSyntaxError\u001b[0m\u001b[0;31m:\u001b[0m invalid syntax\n"
          ]
        }
      ]
    },
    {
      "cell_type": "code",
      "metadata": {
        "colab": {
          "base_uri": "https://localhost:8080/",
          "height": 178
        },
        "id": "y8X_uCtJthP8",
        "outputId": "49ca0733-5f04-4a20-dc19-2dee37bdc309"
      },
      "source": [
        "# Creating a newsapi client\n",
        "newsapi = NewsApiClient(api_key=api_key)"
      ],
      "execution_count": null,
      "outputs": [
        {
          "output_type": "error",
          "ename": "NameError",
          "evalue": "ignored",
          "traceback": [
            "\u001b[0;31m---------------------------------------------------------------------------\u001b[0m",
            "\u001b[0;31mNameError\u001b[0m                                 Traceback (most recent call last)",
            "\u001b[0;32m<ipython-input-44-35c8f79c5c23>\u001b[0m in \u001b[0;36m<module>\u001b[0;34m()\u001b[0m\n\u001b[1;32m      1\u001b[0m \u001b[0;31m# Creating a newsapi client\u001b[0m\u001b[0;34m\u001b[0m\u001b[0;34m\u001b[0m\u001b[0;34m\u001b[0m\u001b[0m\n\u001b[0;32m----> 2\u001b[0;31m \u001b[0mnewsapi\u001b[0m \u001b[0;34m=\u001b[0m \u001b[0mNewsApiClient\u001b[0m\u001b[0;34m(\u001b[0m\u001b[0mapi_key\u001b[0m\u001b[0;34m=\u001b[0m\u001b[0mapi_key\u001b[0m\u001b[0;34m)\u001b[0m\u001b[0;34m\u001b[0m\u001b[0;34m\u001b[0m\u001b[0m\n\u001b[0m",
            "\u001b[0;31mNameError\u001b[0m: name 'NewsApiClient' is not defined"
          ]
        }
      ]
    },
    {
      "cell_type": "code",
      "metadata": {
        "colab": {
          "base_uri": "https://localhost:8080/",
          "height": 363
        },
        "id": "syy1i-_rsWOK",
        "outputId": "93b85972-aa6a-4d0c-d57c-cf5e2666b641"
      },
      "source": [
        "# Initial imports\n",
        "import os\n",
        "import pandas as pd\n",
        "from nltk.sentiment.vader import SentimentIntensityAnalyzer\n",
        "from newsapi import NewsApiClient\n",
        "analyzer = SentimentIntensityAnalyzer()\n",
        "%matplotlib inline"
      ],
      "execution_count": null,
      "outputs": [
        {
          "output_type": "error",
          "ename": "ModuleNotFoundError",
          "evalue": "ignored",
          "traceback": [
            "\u001b[0;31m---------------------------------------------------------------------------\u001b[0m",
            "\u001b[0;31mModuleNotFoundError\u001b[0m                       Traceback (most recent call last)",
            "\u001b[0;32m<ipython-input-45-a0bcf26c797e>\u001b[0m in \u001b[0;36m<module>\u001b[0;34m()\u001b[0m\n\u001b[1;32m      3\u001b[0m \u001b[0;32mimport\u001b[0m \u001b[0mpandas\u001b[0m \u001b[0;32mas\u001b[0m \u001b[0mpd\u001b[0m\u001b[0;34m\u001b[0m\u001b[0;34m\u001b[0m\u001b[0m\n\u001b[1;32m      4\u001b[0m \u001b[0;32mfrom\u001b[0m \u001b[0mnltk\u001b[0m\u001b[0;34m.\u001b[0m\u001b[0msentiment\u001b[0m\u001b[0;34m.\u001b[0m\u001b[0mvader\u001b[0m \u001b[0;32mimport\u001b[0m \u001b[0mSentimentIntensityAnalyzer\u001b[0m\u001b[0;34m\u001b[0m\u001b[0;34m\u001b[0m\u001b[0m\n\u001b[0;32m----> 5\u001b[0;31m \u001b[0;32mfrom\u001b[0m \u001b[0mnewsapi\u001b[0m \u001b[0;32mimport\u001b[0m \u001b[0mNewsApiClient\u001b[0m\u001b[0;34m\u001b[0m\u001b[0;34m\u001b[0m\u001b[0m\n\u001b[0m\u001b[1;32m      6\u001b[0m \u001b[0manalyzer\u001b[0m \u001b[0;34m=\u001b[0m \u001b[0mSentimentIntensityAnalyzer\u001b[0m\u001b[0;34m(\u001b[0m\u001b[0;34m)\u001b[0m\u001b[0;34m\u001b[0m\u001b[0;34m\u001b[0m\u001b[0m\n\u001b[1;32m      7\u001b[0m \u001b[0mget_ipython\u001b[0m\u001b[0;34m(\u001b[0m\u001b[0;34m)\u001b[0m\u001b[0;34m.\u001b[0m\u001b[0mmagic\u001b[0m\u001b[0;34m(\u001b[0m\u001b[0;34m'matplotlib inline'\u001b[0m\u001b[0;34m)\u001b[0m\u001b[0;34m\u001b[0m\u001b[0;34m\u001b[0m\u001b[0m\n",
            "\u001b[0;31mModuleNotFoundError\u001b[0m: No module named 'newsapi'",
            "",
            "\u001b[0;31m---------------------------------------------------------------------------\u001b[0;32m\nNOTE: If your import is failing due to a missing package, you can\nmanually install dependencies using either !pip or !apt.\n\nTo view examples of installing some common dependencies, click the\n\"Open Examples\" button below.\n\u001b[0;31m---------------------------------------------------------------------------\u001b[0m\n"
          ]
        }
      ]
    },
    {
      "cell_type": "markdown",
      "metadata": {
        "id": "NMlNu07Dtt2s"
      },
      "source": [
        ""
      ]
    },
    {
      "cell_type": "code",
      "metadata": {
        "id": "6F8VIZRDsoAs"
      },
      "source": [
        ""
      ],
      "execution_count": null,
      "outputs": []
    },
    {
      "cell_type": "code",
      "metadata": {
        "id": "AygBVgj-p0c4"
      },
      "source": [
        "import numpy as np\n",
        "from PIL import Image\n",
        "import matplotlib as mpl\n",
        "from wordcloud import WordCloud\n",
        "import matplotlib.pyplot as plt\n",
        "plt.style.use('seaborn-whitegrid')\n",
        "mpl.rcParams['figure.figsize'] = [20.0, 10.0]"
      ],
      "execution_count": null,
      "outputs": []
    },
    {
      "cell_type": "code",
      "metadata": {
        "colab": {
          "base_uri": "https://localhost:8080/",
          "height": 195
        },
        "id": "r9UNPEwdrSEs",
        "outputId": "6bbd1090-b263-4c31-c955-35d7f64142bd"
      },
      "source": [
        "\n",
        "# Fetching the Carnival news articles\n",
        "ccl_headlines = newsapi.get_everything(q=\"carnival\", language=\"en\")"
      ],
      "execution_count": null,
      "outputs": [
        {
          "output_type": "error",
          "ename": "NameError",
          "evalue": "ignored",
          "traceback": [
            "\u001b[0;31m---------------------------------------------------------------------------\u001b[0m",
            "\u001b[0;31mNameError\u001b[0m                                 Traceback (most recent call last)",
            "\u001b[0;32m<ipython-input-29-a2183bae5df5>\u001b[0m in \u001b[0;36m<module>\u001b[0;34m()\u001b[0m\n\u001b[1;32m      1\u001b[0m \u001b[0;34m\u001b[0m\u001b[0m\n\u001b[1;32m      2\u001b[0m \u001b[0;31m# Fetching the Carnival news articles\u001b[0m\u001b[0;34m\u001b[0m\u001b[0;34m\u001b[0m\u001b[0;34m\u001b[0m\u001b[0m\n\u001b[0;32m----> 3\u001b[0;31m \u001b[0mccl_headlines\u001b[0m \u001b[0;34m=\u001b[0m \u001b[0mnewsapi\u001b[0m\u001b[0;34m.\u001b[0m\u001b[0mget_everything\u001b[0m\u001b[0;34m(\u001b[0m\u001b[0mq\u001b[0m\u001b[0;34m=\u001b[0m\u001b[0;34m\"carnival\"\u001b[0m\u001b[0;34m,\u001b[0m \u001b[0mlanguage\u001b[0m\u001b[0;34m=\u001b[0m\u001b[0;34m\"en\"\u001b[0m\u001b[0;34m)\u001b[0m\u001b[0;34m\u001b[0m\u001b[0;34m\u001b[0m\u001b[0m\n\u001b[0m",
            "\u001b[0;31mNameError\u001b[0m: name 'newsapi' is not defined"
          ]
        }
      ]
    },
    {
      "cell_type": "code",
      "metadata": {
        "colab": {
          "base_uri": "https://localhost:8080/",
          "height": 229
        },
        "id": "rWjZ1ueVregE",
        "outputId": "8ae43c76-b82a-4c1b-d99a-1c6554094b02"
      },
      "source": [
        "# Creating the carnival sentiment scores DataFrame\n",
        "ccl_sentiments = []\n",
        "\n",
        "for article in ccl_headlines[\"articles\"]:\n",
        "    try:\n",
        "        text = article[\"content\"]\n",
        "        date = article[\"publishedAt\"][:10]\n",
        "        sentiment = analyzer.polarity_scores(text)\n",
        "        compound = sentiment[\"compound\"]\n",
        "        pos = sentiment[\"pos\"]\n",
        "        neu = sentiment[\"neu\"]\n",
        "        neg = sentiment[\"neg\"]\n",
        "        \n",
        "        ccl_sentiments.append({\n",
        "            \"text\": text,\n",
        "            \"date\": date,\n",
        "            \"Compound\": compound,\n",
        "            \"Positive\": pos,\n",
        "            \"Negative\": neg,\n",
        "            \"Neutral\": neu})\n",
        "        \n",
        "    except AttributeError:\n",
        "        pass\n",
        "    \n",
        "# Creating a DataFrame\n",
        "ccl_df = pd.DataFrame(ccl_sentiments)"
      ],
      "execution_count": null,
      "outputs": [
        {
          "output_type": "error",
          "ename": "NameError",
          "evalue": "ignored",
          "traceback": [
            "\u001b[0;31m---------------------------------------------------------------------------\u001b[0m",
            "\u001b[0;31mNameError\u001b[0m                                 Traceback (most recent call last)",
            "\u001b[0;32m<ipython-input-31-14979df25f70>\u001b[0m in \u001b[0;36m<module>\u001b[0;34m()\u001b[0m\n\u001b[1;32m      2\u001b[0m \u001b[0mccl_sentiments\u001b[0m \u001b[0;34m=\u001b[0m \u001b[0;34m[\u001b[0m\u001b[0;34m]\u001b[0m\u001b[0;34m\u001b[0m\u001b[0;34m\u001b[0m\u001b[0m\n\u001b[1;32m      3\u001b[0m \u001b[0;34m\u001b[0m\u001b[0m\n\u001b[0;32m----> 4\u001b[0;31m \u001b[0;32mfor\u001b[0m \u001b[0marticle\u001b[0m \u001b[0;32min\u001b[0m \u001b[0mccl_headlines\u001b[0m\u001b[0;34m[\u001b[0m\u001b[0;34m\"articles\"\u001b[0m\u001b[0;34m]\u001b[0m\u001b[0;34m:\u001b[0m\u001b[0;34m\u001b[0m\u001b[0;34m\u001b[0m\u001b[0m\n\u001b[0m\u001b[1;32m      5\u001b[0m     \u001b[0;32mtry\u001b[0m\u001b[0;34m:\u001b[0m\u001b[0;34m\u001b[0m\u001b[0;34m\u001b[0m\u001b[0m\n\u001b[1;32m      6\u001b[0m         \u001b[0mtext\u001b[0m \u001b[0;34m=\u001b[0m \u001b[0marticle\u001b[0m\u001b[0;34m[\u001b[0m\u001b[0;34m\"content\"\u001b[0m\u001b[0;34m]\u001b[0m\u001b[0;34m\u001b[0m\u001b[0;34m\u001b[0m\u001b[0m\n",
            "\u001b[0;31mNameError\u001b[0m: name 'ccl_headlines' is not defined"
          ]
        }
      ]
    },
    {
      "cell_type": "code",
      "metadata": {
        "id": "ilsNZooVsUkZ"
      },
      "source": [
        ""
      ],
      "execution_count": null,
      "outputs": []
    },
    {
      "cell_type": "code",
      "metadata": {
        "colab": {
          "base_uri": "https://localhost:8080/",
          "height": 212
        },
        "id": "qv73YvU0ri5u",
        "outputId": "131c04f5-73d4-4247-88a0-074437c3ff15"
      },
      "source": [
        "# Reordering DataFrame columns\n",
        "cols = [\"Compound\", \"Negative\", \"Neutral\", \"Positive\", \"text\"]\n",
        "ccl_df = ccl_df[cols]\n",
        "ccl_df.head()"
      ],
      "execution_count": null,
      "outputs": [
        {
          "output_type": "error",
          "ename": "NameError",
          "evalue": "ignored",
          "traceback": [
            "\u001b[0;31m---------------------------------------------------------------------------\u001b[0m",
            "\u001b[0;31mNameError\u001b[0m                                 Traceback (most recent call last)",
            "\u001b[0;32m<ipython-input-30-d1c6acc7fc41>\u001b[0m in \u001b[0;36m<module>\u001b[0;34m()\u001b[0m\n\u001b[1;32m      1\u001b[0m \u001b[0;31m# Reordering DataFrame columns\u001b[0m\u001b[0;34m\u001b[0m\u001b[0;34m\u001b[0m\u001b[0;34m\u001b[0m\u001b[0m\n\u001b[1;32m      2\u001b[0m \u001b[0mcols\u001b[0m \u001b[0;34m=\u001b[0m \u001b[0;34m[\u001b[0m\u001b[0;34m\"Compound\"\u001b[0m\u001b[0;34m,\u001b[0m \u001b[0;34m\"Negative\"\u001b[0m\u001b[0;34m,\u001b[0m \u001b[0;34m\"Neutral\"\u001b[0m\u001b[0;34m,\u001b[0m \u001b[0;34m\"Positive\"\u001b[0m\u001b[0;34m,\u001b[0m \u001b[0;34m\"text\"\u001b[0m\u001b[0;34m]\u001b[0m\u001b[0;34m\u001b[0m\u001b[0;34m\u001b[0m\u001b[0m\n\u001b[0;32m----> 3\u001b[0;31m \u001b[0mccl_df\u001b[0m \u001b[0;34m=\u001b[0m \u001b[0mccl_df\u001b[0m\u001b[0;34m[\u001b[0m\u001b[0mcols\u001b[0m\u001b[0;34m]\u001b[0m\u001b[0;34m\u001b[0m\u001b[0;34m\u001b[0m\u001b[0m\n\u001b[0m\u001b[1;32m      4\u001b[0m \u001b[0mccl_df\u001b[0m\u001b[0;34m.\u001b[0m\u001b[0mhead\u001b[0m\u001b[0;34m(\u001b[0m\u001b[0;34m)\u001b[0m\u001b[0;34m\u001b[0m\u001b[0;34m\u001b[0m\u001b[0m\n",
            "\u001b[0;31mNameError\u001b[0m: name 'ccl_df' is not defined"
          ]
        }
      ]
    },
    {
      "cell_type": "code",
      "metadata": {
        "colab": {
          "base_uri": "https://localhost:8080/",
          "height": 229
        },
        "id": "jKolNPd2qFnx",
        "outputId": "19b2718d-4fd8-4589-9c68-8713e6f45a9c"
      },
      "source": [
        "# Generating the ccl word cloud\n",
        "\n",
        "ccl_text = ccl_df[\"text\"].str.cat()\n",
        "clean_ccl_text =  tokenizer(ccl_text)\n",
        "big_string = '. '.join(clean_ccl_text)\n",
        "wc = WordCloud().generate(big_string)\n",
        "plt.title(\"Carnival Cruise Word Cloud\", fontsize=40, loc=\"center\", fontweight=\"bold\")\n",
        "plt.imshow(wc)"
      ],
      "execution_count": null,
      "outputs": [
        {
          "output_type": "error",
          "ename": "NameError",
          "evalue": "ignored",
          "traceback": [
            "\u001b[0;31m---------------------------------------------------------------------------\u001b[0m",
            "\u001b[0;31mNameError\u001b[0m                                 Traceback (most recent call last)",
            "\u001b[0;32m<ipython-input-5-42a8f397eff4>\u001b[0m in \u001b[0;36m<module>\u001b[0;34m()\u001b[0m\n\u001b[1;32m      1\u001b[0m \u001b[0;34m\u001b[0m\u001b[0m\n\u001b[1;32m      2\u001b[0m \u001b[0;31m# Generating the ccl word cloud\u001b[0m\u001b[0;34m\u001b[0m\u001b[0;34m\u001b[0m\u001b[0;34m\u001b[0m\u001b[0m\n\u001b[0;32m----> 3\u001b[0;31m \u001b[0mbig_string\u001b[0m \u001b[0;34m=\u001b[0m \u001b[0;34m'. '\u001b[0m\u001b[0;34m.\u001b[0m\u001b[0mjoin\u001b[0m\u001b[0;34m(\u001b[0m\u001b[0mclean_ccl_text\u001b[0m\u001b[0;34m)\u001b[0m\u001b[0;34m\u001b[0m\u001b[0;34m\u001b[0m\u001b[0m\n\u001b[0m\u001b[1;32m      4\u001b[0m \u001b[0mwc\u001b[0m \u001b[0;34m=\u001b[0m \u001b[0mWordCloud\u001b[0m\u001b[0;34m(\u001b[0m\u001b[0;34m)\u001b[0m\u001b[0;34m.\u001b[0m\u001b[0mgenerate\u001b[0m\u001b[0;34m(\u001b[0m\u001b[0mbig_string\u001b[0m\u001b[0;34m)\u001b[0m\u001b[0;34m\u001b[0m\u001b[0;34m\u001b[0m\u001b[0m\n\u001b[1;32m      5\u001b[0m \u001b[0mplt\u001b[0m\u001b[0;34m.\u001b[0m\u001b[0mtitle\u001b[0m\u001b[0;34m(\u001b[0m\u001b[0;34m\"Carnival Cruise Word Cloud\"\u001b[0m\u001b[0;34m,\u001b[0m \u001b[0mfontsize\u001b[0m\u001b[0;34m=\u001b[0m\u001b[0;36m40\u001b[0m\u001b[0;34m,\u001b[0m \u001b[0mloc\u001b[0m\u001b[0;34m=\u001b[0m\u001b[0;34m\"center\"\u001b[0m\u001b[0;34m,\u001b[0m \u001b[0mfontweight\u001b[0m\u001b[0;34m=\u001b[0m\u001b[0;34m\"bold\"\u001b[0m\u001b[0;34m)\u001b[0m\u001b[0;34m\u001b[0m\u001b[0;34m\u001b[0m\u001b[0m\n",
            "\u001b[0;31mNameError\u001b[0m: name 'clean_ccl_text' is not defined"
          ]
        }
      ]
    },
    {
      "cell_type": "code",
      "metadata": {
        "id": "IRshVkxnrQp5"
      },
      "source": [
        ""
      ],
      "execution_count": null,
      "outputs": []
    },
    {
      "cell_type": "code",
      "metadata": {
        "id": "dr9YPcMyqMLd"
      },
      "source": [
        ""
      ],
      "execution_count": null,
      "outputs": []
    }
  ]
}