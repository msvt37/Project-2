{
 "cells": [
  {
   "cell_type": "code",
   "execution_count": 201,
   "id": "legal-server",
   "metadata": {},
   "outputs": [],
   "source": [
    "# Run Imports\n",
    "import pandas as pd\n",
    "import pandas.plotting\n",
    "import numpy as np\n",
    "import matplotlib.pyplot as plt\n",
    "import os\n",
    "import requests\n",
    "from dotenv import load_dotenv\n",
    "import alpaca_trade_api as tradeapi\n",
    "from MCForecastTools import MCSimulation\n",
    "\n",
    "%matplotlib inline"
   ]
  },
  {
   "cell_type": "code",
   "execution_count": 202,
   "id": "military-messenger",
   "metadata": {},
   "outputs": [
    {
     "data": {
      "text/plain": [
       "True"
      ]
     },
     "execution_count": 202,
     "metadata": {},
     "output_type": "execute_result"
    }
   ],
   "source": [
    "# Load .env enviroment variables\n",
    "load_dotenv()"
   ]
  },
  {
   "cell_type": "code",
   "execution_count": 203,
   "id": "classical-bible",
   "metadata": {},
   "outputs": [],
   "source": [
    "# Set Alpaca API key and secret\n",
    "alpaca_api_key = os.getenv(\"ALPACA_API_KEY\")\n",
    "alpaca_secret_key = os.getenv(\"ALPACA_SECRET_KEY\")"
   ]
  },
  {
   "cell_type": "code",
   "execution_count": 204,
   "id": "saving-sailing",
   "metadata": {},
   "outputs": [],
   "source": [
    "# Create the Alpaca API object\n",
    "alpaca = tradeapi.REST(\n",
    "    alpaca_api_key,\n",
    "    alpaca_secret_key,\n",
    "    api_version=\"v2\")"
   ]
  },
  {
   "cell_type": "code",
   "execution_count": 250,
   "id": "juvenile-fundamentals",
   "metadata": {},
   "outputs": [
    {
     "data": {
      "text/html": [
       "<div>\n",
       "<style scoped>\n",
       "    .dataframe tbody tr th:only-of-type {\n",
       "        vertical-align: middle;\n",
       "    }\n",
       "\n",
       "    .dataframe tbody tr th {\n",
       "        vertical-align: top;\n",
       "    }\n",
       "\n",
       "    .dataframe thead tr th {\n",
       "        text-align: left;\n",
       "    }\n",
       "\n",
       "    .dataframe thead tr:last-of-type th {\n",
       "        text-align: right;\n",
       "    }\n",
       "</style>\n",
       "<table border=\"1\" class=\"dataframe\">\n",
       "  <thead>\n",
       "    <tr>\n",
       "      <th></th>\n",
       "      <th colspan=\"5\" halign=\"left\">DAL</th>\n",
       "      <th colspan=\"5\" halign=\"left\">LUV</th>\n",
       "    </tr>\n",
       "    <tr>\n",
       "      <th></th>\n",
       "      <th>open</th>\n",
       "      <th>high</th>\n",
       "      <th>low</th>\n",
       "      <th>close</th>\n",
       "      <th>volume</th>\n",
       "      <th>open</th>\n",
       "      <th>high</th>\n",
       "      <th>low</th>\n",
       "      <th>close</th>\n",
       "      <th>volume</th>\n",
       "    </tr>\n",
       "    <tr>\n",
       "      <th>time</th>\n",
       "      <th></th>\n",
       "      <th></th>\n",
       "      <th></th>\n",
       "      <th></th>\n",
       "      <th></th>\n",
       "      <th></th>\n",
       "      <th></th>\n",
       "      <th></th>\n",
       "      <th></th>\n",
       "      <th></th>\n",
       "    </tr>\n",
       "  </thead>\n",
       "  <tbody>\n",
       "    <tr>\n",
       "      <th>2017-06-15 00:00:00-04:00</th>\n",
       "      <td>51.70</td>\n",
       "      <td>51.84</td>\n",
       "      <td>50.9150</td>\n",
       "      <td>51.57</td>\n",
       "      <td>5820200</td>\n",
       "      <td>59.21</td>\n",
       "      <td>60.2100</td>\n",
       "      <td>58.990</td>\n",
       "      <td>60.13</td>\n",
       "      <td>4387639</td>\n",
       "    </tr>\n",
       "    <tr>\n",
       "      <th>2017-06-16 00:00:00-04:00</th>\n",
       "      <td>51.55</td>\n",
       "      <td>52.00</td>\n",
       "      <td>51.2503</td>\n",
       "      <td>52.00</td>\n",
       "      <td>4288586</td>\n",
       "      <td>60.01</td>\n",
       "      <td>60.5700</td>\n",
       "      <td>60.000</td>\n",
       "      <td>60.30</td>\n",
       "      <td>3537586</td>\n",
       "    </tr>\n",
       "    <tr>\n",
       "      <th>2017-06-19 00:00:00-04:00</th>\n",
       "      <td>52.10</td>\n",
       "      <td>52.63</td>\n",
       "      <td>51.9400</td>\n",
       "      <td>52.52</td>\n",
       "      <td>4838024</td>\n",
       "      <td>60.64</td>\n",
       "      <td>61.0900</td>\n",
       "      <td>60.405</td>\n",
       "      <td>60.93</td>\n",
       "      <td>3399378</td>\n",
       "    </tr>\n",
       "    <tr>\n",
       "      <th>2017-06-20 00:00:00-04:00</th>\n",
       "      <td>52.68</td>\n",
       "      <td>52.80</td>\n",
       "      <td>51.6600</td>\n",
       "      <td>51.79</td>\n",
       "      <td>5872184</td>\n",
       "      <td>60.85</td>\n",
       "      <td>61.0700</td>\n",
       "      <td>60.235</td>\n",
       "      <td>60.32</td>\n",
       "      <td>3134246</td>\n",
       "    </tr>\n",
       "    <tr>\n",
       "      <th>2017-06-21 00:00:00-04:00</th>\n",
       "      <td>51.99</td>\n",
       "      <td>52.58</td>\n",
       "      <td>51.7500</td>\n",
       "      <td>52.28</td>\n",
       "      <td>4500929</td>\n",
       "      <td>60.42</td>\n",
       "      <td>61.3699</td>\n",
       "      <td>60.420</td>\n",
       "      <td>61.05</td>\n",
       "      <td>3366477</td>\n",
       "    </tr>\n",
       "  </tbody>\n",
       "</table>\n",
       "</div>"
      ],
      "text/plain": [
       "                             DAL                                    LUV  \\\n",
       "                            open   high      low  close   volume   open   \n",
       "time                                                                      \n",
       "2017-06-15 00:00:00-04:00  51.70  51.84  50.9150  51.57  5820200  59.21   \n",
       "2017-06-16 00:00:00-04:00  51.55  52.00  51.2503  52.00  4288586  60.01   \n",
       "2017-06-19 00:00:00-04:00  52.10  52.63  51.9400  52.52  4838024  60.64   \n",
       "2017-06-20 00:00:00-04:00  52.68  52.80  51.6600  51.79  5872184  60.85   \n",
       "2017-06-21 00:00:00-04:00  51.99  52.58  51.7500  52.28  4500929  60.42   \n",
       "\n",
       "                                                            \n",
       "                              high     low  close   volume  \n",
       "time                                                        \n",
       "2017-06-15 00:00:00-04:00  60.2100  58.990  60.13  4387639  \n",
       "2017-06-16 00:00:00-04:00  60.5700  60.000  60.30  3537586  \n",
       "2017-06-19 00:00:00-04:00  61.0900  60.405  60.93  3399378  \n",
       "2017-06-20 00:00:00-04:00  61.0700  60.235  60.32  3134246  \n",
       "2017-06-21 00:00:00-04:00  61.3699  60.420  61.05  3366477  "
      ]
     },
     "execution_count": 250,
     "metadata": {},
     "output_type": "execute_result"
    }
   ],
   "source": [
    "# Set the Tesla and Coca-Cola tickers\n",
    "ticker = [\"LUV\",\"DAL\"]\n",
    "# Set timeframe to '1D'\n",
    "timeframe = \"1D\"\n",
    "# Set start and end datetimes of 1 year, between now and 365 days ago.\n",
    "start_date = pd.Timestamp(\"2014-05-01\", tz=\"America/New_York\").isoformat()\n",
    "end_date = pd.Timestamp(\"2028-05-01\", tz=\"America/New_York\").isoformat()\n",
    "# Get 1 year's worth of historical data for Tesla and Coca-Cola\n",
    "df_ticker = alpaca.get_barset(\n",
    "    ticker,\n",
    "    timeframe,\n",
    "    start=start_date,\n",
    "    end=end_date,\n",
    "    limit=1000,\n",
    ").df\n",
    "# Display sample data\n",
    "df_ticker.head()"
   ]
  },
  {
   "cell_type": "markdown",
   "id": "federal-medicare",
   "metadata": {},
   "source": [
    "### Monte Carlo Simulation"
   ]
  },
  {
   "cell_type": "code",
   "execution_count": 206,
   "id": "played-seattle",
   "metadata": {},
   "outputs": [],
   "source": [
    "# Format current date as ISO format\n",
    "today = pd.Timestamp(\"2021-03-17\", tz=\"America/New_York\").isoformat()"
   ]
  },
  {
   "cell_type": "code",
   "execution_count": 248,
   "id": "sonic-accident",
   "metadata": {},
   "outputs": [],
   "source": [
    "# Set the tickers\n",
    "tickers = [\"LUV\",\"DAL\"]\n",
    "# Set timeframe to '1D' for Alpaca API\n",
    "timeframe = \"1D\""
   ]
  },
  {
   "cell_type": "code",
   "execution_count": 251,
   "id": "varied-headquarters",
   "metadata": {},
   "outputs": [
    {
     "data": {
      "text/html": [
       "<div>\n",
       "<style scoped>\n",
       "    .dataframe tbody tr th:only-of-type {\n",
       "        vertical-align: middle;\n",
       "    }\n",
       "\n",
       "    .dataframe tbody tr th {\n",
       "        vertical-align: top;\n",
       "    }\n",
       "\n",
       "    .dataframe thead tr th {\n",
       "        text-align: left;\n",
       "    }\n",
       "\n",
       "    .dataframe thead tr:last-of-type th {\n",
       "        text-align: right;\n",
       "    }\n",
       "</style>\n",
       "<table border=\"1\" class=\"dataframe\">\n",
       "  <thead>\n",
       "    <tr>\n",
       "      <th></th>\n",
       "      <th colspan=\"5\" halign=\"left\">DAL</th>\n",
       "      <th colspan=\"5\" halign=\"left\">LUV</th>\n",
       "    </tr>\n",
       "    <tr>\n",
       "      <th></th>\n",
       "      <th>open</th>\n",
       "      <th>high</th>\n",
       "      <th>low</th>\n",
       "      <th>close</th>\n",
       "      <th>volume</th>\n",
       "      <th>open</th>\n",
       "      <th>high</th>\n",
       "      <th>low</th>\n",
       "      <th>close</th>\n",
       "      <th>volume</th>\n",
       "    </tr>\n",
       "    <tr>\n",
       "      <th>time</th>\n",
       "      <th></th>\n",
       "      <th></th>\n",
       "      <th></th>\n",
       "      <th></th>\n",
       "      <th></th>\n",
       "      <th></th>\n",
       "      <th></th>\n",
       "      <th></th>\n",
       "      <th></th>\n",
       "      <th></th>\n",
       "    </tr>\n",
       "  </thead>\n",
       "  <tbody>\n",
       "    <tr>\n",
       "      <th>2017-03-28 00:00:00-04:00</th>\n",
       "      <td>46.10</td>\n",
       "      <td>46.7953</td>\n",
       "      <td>44.48</td>\n",
       "      <td>46.53</td>\n",
       "      <td>6704525</td>\n",
       "      <td>52.80</td>\n",
       "      <td>54.54</td>\n",
       "      <td>52.46</td>\n",
       "      <td>54.2000</td>\n",
       "      <td>5744844</td>\n",
       "    </tr>\n",
       "    <tr>\n",
       "      <th>2017-03-29 00:00:00-04:00</th>\n",
       "      <td>46.42</td>\n",
       "      <td>46.6500</td>\n",
       "      <td>45.73</td>\n",
       "      <td>45.94</td>\n",
       "      <td>5575916</td>\n",
       "      <td>54.01</td>\n",
       "      <td>54.08</td>\n",
       "      <td>53.16</td>\n",
       "      <td>53.4744</td>\n",
       "      <td>3961596</td>\n",
       "    </tr>\n",
       "    <tr>\n",
       "      <th>2017-03-30 00:00:00-04:00</th>\n",
       "      <td>46.02</td>\n",
       "      <td>46.4800</td>\n",
       "      <td>45.91</td>\n",
       "      <td>46.27</td>\n",
       "      <td>4329022</td>\n",
       "      <td>53.52</td>\n",
       "      <td>54.25</td>\n",
       "      <td>53.41</td>\n",
       "      <td>53.8400</td>\n",
       "      <td>2282278</td>\n",
       "    </tr>\n",
       "    <tr>\n",
       "      <th>2017-03-31 00:00:00-04:00</th>\n",
       "      <td>46.12</td>\n",
       "      <td>46.2900</td>\n",
       "      <td>45.89</td>\n",
       "      <td>45.95</td>\n",
       "      <td>4514900</td>\n",
       "      <td>53.53</td>\n",
       "      <td>53.96</td>\n",
       "      <td>53.41</td>\n",
       "      <td>53.7550</td>\n",
       "      <td>2473136</td>\n",
       "    </tr>\n",
       "    <tr>\n",
       "      <th>2017-04-03 00:00:00-04:00</th>\n",
       "      <td>46.00</td>\n",
       "      <td>46.3400</td>\n",
       "      <td>45.57</td>\n",
       "      <td>46.31</td>\n",
       "      <td>6377687</td>\n",
       "      <td>53.79</td>\n",
       "      <td>54.12</td>\n",
       "      <td>53.18</td>\n",
       "      <td>53.9900</td>\n",
       "      <td>2888043</td>\n",
       "    </tr>\n",
       "  </tbody>\n",
       "</table>\n",
       "</div>"
      ],
      "text/plain": [
       "                             DAL                                    LUV  \\\n",
       "                            open     high    low  close   volume   open   \n",
       "time                                                                      \n",
       "2017-03-28 00:00:00-04:00  46.10  46.7953  44.48  46.53  6704525  52.80   \n",
       "2017-03-29 00:00:00-04:00  46.42  46.6500  45.73  45.94  5575916  54.01   \n",
       "2017-03-30 00:00:00-04:00  46.02  46.4800  45.91  46.27  4329022  53.52   \n",
       "2017-03-31 00:00:00-04:00  46.12  46.2900  45.89  45.95  4514900  53.53   \n",
       "2017-04-03 00:00:00-04:00  46.00  46.3400  45.57  46.31  6377687  53.79   \n",
       "\n",
       "                                                           \n",
       "                            high    low    close   volume  \n",
       "time                                                       \n",
       "2017-03-28 00:00:00-04:00  54.54  52.46  54.2000  5744844  \n",
       "2017-03-29 00:00:00-04:00  54.08  53.16  53.4744  3961596  \n",
       "2017-03-30 00:00:00-04:00  54.25  53.41  53.8400  2282278  \n",
       "2017-03-31 00:00:00-04:00  53.96  53.41  53.7550  2473136  \n",
       "2017-04-03 00:00:00-04:00  54.12  53.18  53.9900  2888043  "
      ]
     },
     "execution_count": 251,
     "metadata": {},
     "output_type": "execute_result"
    }
   ],
   "source": [
    "# Get current closing prices for SPY and AGG\n",
    "df_portfolio = alpaca.get_barset( tickers, timeframe, start=\"2011-06-05\", end=today, limit=1000).df\n",
    "# Preview DataFrame\n",
    "df_portfolio.head()"
   ]
  },
  {
   "cell_type": "code",
   "execution_count": 236,
   "id": "altered-pledge",
   "metadata": {},
   "outputs": [],
   "source": [
    "MC_dist = MCSimulation(portfolio_data =df_portfolio, weights = [1/3,1/3,1/3], num_simulation = 500, num_trading_days = 252*30)"
   ]
  },
  {
   "cell_type": "markdown",
   "id": "instructional-objective",
   "metadata": {},
   "source": [
    "### Linear Regression Model"
   ]
  },
  {
   "cell_type": "code",
   "execution_count": 237,
   "id": "surprising-bouquet",
   "metadata": {},
   "outputs": [],
   "source": [
    "from pylab import mpl, plt\n",
    "plt.style.use('seaborn')"
   ]
  },
  {
   "cell_type": "code",
   "execution_count": 238,
   "id": "living-bubble",
   "metadata": {},
   "outputs": [],
   "source": [
    "#Defines the ticker symbols and dates to pull data for\n",
    "symbols = ['LUV']\n",
    "start = '2001-01-01'\n",
    "end = '2021-06-03'"
   ]
  },
  {
   "cell_type": "code",
   "execution_count": 239,
   "id": "russian-windsor",
   "metadata": {},
   "outputs": [],
   "source": [
    "ccl_symbols = ['CLL']\n",
    "ccl_start = '2001-01-01'\n",
    "ccl_end = '2021-06-03'"
   ]
  },
  {
   "cell_type": "code",
   "execution_count": 240,
   "id": "present-ethics",
   "metadata": {},
   "outputs": [
    {
     "name": "stdout",
     "output_type": "stream",
     "text": [
      "[*********************100%***********************]  1 of 1 completed\n"
     ]
    }
   ],
   "source": [
    "#create the DF and pull in only the Adjusted Close for specified ticker\n",
    "luv_df = pd.DataFrame()\n",
    "for s in symbols:\n",
    "    luv_df[s] = yf.download(s,start,end)['Adj Close']"
   ]
  },
  {
   "cell_type": "code",
   "execution_count": 241,
   "id": "stone-positive",
   "metadata": {},
   "outputs": [
    {
     "name": "stdout",
     "output_type": "stream",
     "text": [
      "[*********************100%***********************]  1 of 1 completed\n"
     ]
    }
   ],
   "source": [
    "#create the DF and pull in only the Adjusted Close for specified ticker\n",
    "ccl_df = pd.DataFrame()\n",
    "for s in ccl_symbols:\n",
    "    ccl_df[s] = yf.download(s,ccl_start,ccl_end)['Adj Close']"
   ]
  },
  {
   "cell_type": "code",
   "execution_count": 242,
   "id": "referenced-tyler",
   "metadata": {},
   "outputs": [],
   "source": [
    "#Column does not have a name, so name it\n",
    "luv_df.rename(columns={ luv_df.columns[0] : 'Adj Close'}, inplace=True)"
   ]
  },
  {
   "cell_type": "code",
   "execution_count": 243,
   "id": "respiratory-earth",
   "metadata": {},
   "outputs": [],
   "source": [
    "#Column does not have a name, so name it\n",
    "ccl_df.rename(columns={ ccl_df.columns[0] : 'Adj Close'}, inplace=True)"
   ]
  },
  {
   "cell_type": "code",
   "execution_count": 244,
   "id": "fleet-isolation",
   "metadata": {},
   "outputs": [],
   "source": [
    "# Set the timeframe for the Simple Moving Averages (42 days and 252 days)\n",
    "SMA1 = 42  \n",
    "SMA2 = 252"
   ]
  },
  {
   "cell_type": "code",
   "execution_count": 253,
   "id": "naughty-stanford",
   "metadata": {},
   "outputs": [],
   "source": [
    "# Create SMA columns and perform the calculations\n",
    "df_ticker['SMA1'] = df_ticker['DAL']['close'].rolling(SMA1).mean()\n",
    "df_ticker['SMA2'] = df_ticker['DAL']['close'].rolling(SMA2).mean()\n",
    "\n",
    "#drop nas\n",
    "#df_portfolio.dropna(inplace = True)"
   ]
  },
  {
   "cell_type": "code",
   "execution_count": 256,
   "id": "assumed-revision",
   "metadata": {},
   "outputs": [
    {
     "data": {
      "text/html": [
       "<div>\n",
       "<style scoped>\n",
       "    .dataframe tbody tr th:only-of-type {\n",
       "        vertical-align: middle;\n",
       "    }\n",
       "\n",
       "    .dataframe tbody tr th {\n",
       "        vertical-align: top;\n",
       "    }\n",
       "\n",
       "    .dataframe thead tr th {\n",
       "        text-align: left;\n",
       "    }\n",
       "\n",
       "    .dataframe thead tr:last-of-type th {\n",
       "        text-align: right;\n",
       "    }\n",
       "</style>\n",
       "<table border=\"1\" class=\"dataframe\">\n",
       "  <thead>\n",
       "    <tr>\n",
       "      <th></th>\n",
       "      <th colspan=\"5\" halign=\"left\">DAL</th>\n",
       "      <th colspan=\"5\" halign=\"left\">LUV</th>\n",
       "      <th>SMA1</th>\n",
       "      <th>SMA2</th>\n",
       "    </tr>\n",
       "    <tr>\n",
       "      <th></th>\n",
       "      <th>open</th>\n",
       "      <th>high</th>\n",
       "      <th>low</th>\n",
       "      <th>close</th>\n",
       "      <th>volume</th>\n",
       "      <th>open</th>\n",
       "      <th>high</th>\n",
       "      <th>low</th>\n",
       "      <th>close</th>\n",
       "      <th>volume</th>\n",
       "      <th></th>\n",
       "      <th></th>\n",
       "    </tr>\n",
       "    <tr>\n",
       "      <th>time</th>\n",
       "      <th></th>\n",
       "      <th></th>\n",
       "      <th></th>\n",
       "      <th></th>\n",
       "      <th></th>\n",
       "      <th></th>\n",
       "      <th></th>\n",
       "      <th></th>\n",
       "      <th></th>\n",
       "      <th></th>\n",
       "      <th></th>\n",
       "      <th></th>\n",
       "    </tr>\n",
       "  </thead>\n",
       "  <tbody>\n",
       "    <tr>\n",
       "      <th>2019-03-22 00:00:00-04:00</th>\n",
       "      <td>50.04</td>\n",
       "      <td>50.2400</td>\n",
       "      <td>49.5165</td>\n",
       "      <td>49.76</td>\n",
       "      <td>5256299</td>\n",
       "      <td>50.42</td>\n",
       "      <td>50.515</td>\n",
       "      <td>49.300</td>\n",
       "      <td>49.32</td>\n",
       "      <td>4324288</td>\n",
       "      <td>50.111631</td>\n",
       "      <td>53.223724</td>\n",
       "    </tr>\n",
       "    <tr>\n",
       "      <th>2019-07-23 00:00:00-04:00</th>\n",
       "      <td>61.45</td>\n",
       "      <td>63.1100</td>\n",
       "      <td>61.2700</td>\n",
       "      <td>63.10</td>\n",
       "      <td>6228023</td>\n",
       "      <td>52.75</td>\n",
       "      <td>54.250</td>\n",
       "      <td>52.730</td>\n",
       "      <td>54.13</td>\n",
       "      <td>2978810</td>\n",
       "      <td>57.126352</td>\n",
       "      <td>54.422620</td>\n",
       "    </tr>\n",
       "    <tr>\n",
       "      <th>2019-10-01 00:00:00-04:00</th>\n",
       "      <td>58.05</td>\n",
       "      <td>58.6800</td>\n",
       "      <td>56.6500</td>\n",
       "      <td>57.02</td>\n",
       "      <td>6110474</td>\n",
       "      <td>54.29</td>\n",
       "      <td>54.900</td>\n",
       "      <td>53.290</td>\n",
       "      <td>53.37</td>\n",
       "      <td>3819782</td>\n",
       "      <td>58.214762</td>\n",
       "      <td>54.896985</td>\n",
       "    </tr>\n",
       "    <tr>\n",
       "      <th>2020-06-29 00:00:00-04:00</th>\n",
       "      <td>27.20</td>\n",
       "      <td>28.8200</td>\n",
       "      <td>26.5800</td>\n",
       "      <td>28.60</td>\n",
       "      <td>37129582</td>\n",
       "      <td>33.15</td>\n",
       "      <td>35.360</td>\n",
       "      <td>32.330</td>\n",
       "      <td>35.04</td>\n",
       "      <td>24726256</td>\n",
       "      <td>26.318624</td>\n",
       "      <td>47.726861</td>\n",
       "    </tr>\n",
       "    <tr>\n",
       "      <th>2020-01-16 00:00:00-05:00</th>\n",
       "      <td>62.06</td>\n",
       "      <td>62.4800</td>\n",
       "      <td>61.6300</td>\n",
       "      <td>61.88</td>\n",
       "      <td>4163557</td>\n",
       "      <td>55.38</td>\n",
       "      <td>55.680</td>\n",
       "      <td>55.075</td>\n",
       "      <td>55.31</td>\n",
       "      <td>2118427</td>\n",
       "      <td>57.829050</td>\n",
       "      <td>55.804581</td>\n",
       "    </tr>\n",
       "    <tr>\n",
       "      <th>2019-07-05 00:00:00-04:00</th>\n",
       "      <td>59.15</td>\n",
       "      <td>59.3900</td>\n",
       "      <td>57.8500</td>\n",
       "      <td>58.69</td>\n",
       "      <td>4463820</td>\n",
       "      <td>51.85</td>\n",
       "      <td>52.250</td>\n",
       "      <td>51.460</td>\n",
       "      <td>51.88</td>\n",
       "      <td>1745287</td>\n",
       "      <td>55.475879</td>\n",
       "      <td>53.931569</td>\n",
       "    </tr>\n",
       "    <tr>\n",
       "      <th>2020-04-13 00:00:00-04:00</th>\n",
       "      <td>24.98</td>\n",
       "      <td>25.0600</td>\n",
       "      <td>22.0800</td>\n",
       "      <td>23.25</td>\n",
       "      <td>71545087</td>\n",
       "      <td>36.72</td>\n",
       "      <td>36.720</td>\n",
       "      <td>33.750</td>\n",
       "      <td>34.26</td>\n",
       "      <td>17206012</td>\n",
       "      <td>38.417738</td>\n",
       "      <td>54.198238</td>\n",
       "    </tr>\n",
       "    <tr>\n",
       "      <th>2019-09-10 00:00:00-04:00</th>\n",
       "      <td>58.08</td>\n",
       "      <td>58.7227</td>\n",
       "      <td>57.8000</td>\n",
       "      <td>58.64</td>\n",
       "      <td>3792620</td>\n",
       "      <td>53.29</td>\n",
       "      <td>53.630</td>\n",
       "      <td>52.880</td>\n",
       "      <td>53.41</td>\n",
       "      <td>2828994</td>\n",
       "      <td>59.437262</td>\n",
       "      <td>54.853374</td>\n",
       "    </tr>\n",
       "    <tr>\n",
       "      <th>2021-05-20 00:00:00-04:00</th>\n",
       "      <td>46.32</td>\n",
       "      <td>46.3700</td>\n",
       "      <td>44.9100</td>\n",
       "      <td>45.41</td>\n",
       "      <td>11591993</td>\n",
       "      <td>60.65</td>\n",
       "      <td>60.920</td>\n",
       "      <td>59.290</td>\n",
       "      <td>59.93</td>\n",
       "      <td>7164183</td>\n",
       "      <td>46.769629</td>\n",
       "      <td>36.952542</td>\n",
       "    </tr>\n",
       "    <tr>\n",
       "      <th>2020-03-19 00:00:00-04:00</th>\n",
       "      <td>23.36</td>\n",
       "      <td>24.1500</td>\n",
       "      <td>20.0000</td>\n",
       "      <td>21.50</td>\n",
       "      <td>42710188</td>\n",
       "      <td>34.65</td>\n",
       "      <td>35.050</td>\n",
       "      <td>30.500</td>\n",
       "      <td>30.85</td>\n",
       "      <td>33818030</td>\n",
       "      <td>50.886310</td>\n",
       "      <td>56.007980</td>\n",
       "    </tr>\n",
       "  </tbody>\n",
       "</table>\n",
       "</div>"
      ],
      "text/plain": [
       "                             DAL                                       LUV  \\\n",
       "                            open     high      low  close    volume   open   \n",
       "time                                                                         \n",
       "2019-03-22 00:00:00-04:00  50.04  50.2400  49.5165  49.76   5256299  50.42   \n",
       "2019-07-23 00:00:00-04:00  61.45  63.1100  61.2700  63.10   6228023  52.75   \n",
       "2019-10-01 00:00:00-04:00  58.05  58.6800  56.6500  57.02   6110474  54.29   \n",
       "2020-06-29 00:00:00-04:00  27.20  28.8200  26.5800  28.60  37129582  33.15   \n",
       "2020-01-16 00:00:00-05:00  62.06  62.4800  61.6300  61.88   4163557  55.38   \n",
       "2019-07-05 00:00:00-04:00  59.15  59.3900  57.8500  58.69   4463820  51.85   \n",
       "2020-04-13 00:00:00-04:00  24.98  25.0600  22.0800  23.25  71545087  36.72   \n",
       "2019-09-10 00:00:00-04:00  58.08  58.7227  57.8000  58.64   3792620  53.29   \n",
       "2021-05-20 00:00:00-04:00  46.32  46.3700  44.9100  45.41  11591993  60.65   \n",
       "2020-03-19 00:00:00-04:00  23.36  24.1500  20.0000  21.50  42710188  34.65   \n",
       "\n",
       "                                                                 SMA1  \\\n",
       "                             high     low  close    volume              \n",
       "time                                                                    \n",
       "2019-03-22 00:00:00-04:00  50.515  49.300  49.32   4324288  50.111631   \n",
       "2019-07-23 00:00:00-04:00  54.250  52.730  54.13   2978810  57.126352   \n",
       "2019-10-01 00:00:00-04:00  54.900  53.290  53.37   3819782  58.214762   \n",
       "2020-06-29 00:00:00-04:00  35.360  32.330  35.04  24726256  26.318624   \n",
       "2020-01-16 00:00:00-05:00  55.680  55.075  55.31   2118427  57.829050   \n",
       "2019-07-05 00:00:00-04:00  52.250  51.460  51.88   1745287  55.475879   \n",
       "2020-04-13 00:00:00-04:00  36.720  33.750  34.26  17206012  38.417738   \n",
       "2019-09-10 00:00:00-04:00  53.630  52.880  53.41   2828994  59.437262   \n",
       "2021-05-20 00:00:00-04:00  60.920  59.290  59.93   7164183  46.769629   \n",
       "2020-03-19 00:00:00-04:00  35.050  30.500  30.85  33818030  50.886310   \n",
       "\n",
       "                                SMA2  \n",
       "                                      \n",
       "time                                  \n",
       "2019-03-22 00:00:00-04:00  53.223724  \n",
       "2019-07-23 00:00:00-04:00  54.422620  \n",
       "2019-10-01 00:00:00-04:00  54.896985  \n",
       "2020-06-29 00:00:00-04:00  47.726861  \n",
       "2020-01-16 00:00:00-05:00  55.804581  \n",
       "2019-07-05 00:00:00-04:00  53.931569  \n",
       "2020-04-13 00:00:00-04:00  54.198238  \n",
       "2019-09-10 00:00:00-04:00  54.853374  \n",
       "2021-05-20 00:00:00-04:00  36.952542  \n",
       "2020-03-19 00:00:00-04:00  56.007980  "
      ]
     },
     "execution_count": 256,
     "metadata": {},
     "output_type": "execute_result"
    }
   ],
   "source": [
    "df_ticker.dropna(inplace = True)\n",
    "df_ticker.sample(10)"
   ]
  },
  {
   "cell_type": "code",
   "execution_count": 160,
   "id": "transsexual-marketing",
   "metadata": {},
   "outputs": [],
   "source": [
    "# Create SMA columns and perform the calculations\n",
    "#ccl_df['SMA1'] = ccl_df['Adj Close'].rolling(SMA1).mean()  \n",
    "#ccl_df['SMA2'] = ccl_df['Adj Close'].rolling(SMA2).mean()"
   ]
  },
  {
   "cell_type": "code",
   "execution_count": 257,
   "id": "exceptional-worship",
   "metadata": {},
   "outputs": [
    {
     "data": {
      "text/plain": [
       "<matplotlib.axes._subplots.AxesSubplot at 0x232c9e21cc8>"
      ]
     },
     "execution_count": 257,
     "metadata": {},
     "output_type": "execute_result"
    },
    {
     "data": {
      "image/png": "[encoded data removed]",
      "text/plain": [
       "<Figure size 720x432 with 1 Axes>"
      ]
     },
     "metadata": {},
     "output_type": "display_data"
    }
   ],
   "source": [
    "df_ticker.plot(y = sma_figsize=(10, 6))"
   ]
  },
  {
   "cell_type": "code",
   "execution_count": 162,
   "id": "right-statement",
   "metadata": {},
   "outputs": [
    {
     "data": {
      "text/plain": [
       "<matplotlib.axes._subplots.AxesSubplot at 0x232c8a99c08>"
      ]
     },
     "execution_count": 162,
     "metadata": {},
     "output_type": "execute_result"
    },
    {
     "data": {
      "image/png": "[encoded data removed]",
      "text/plain": [
       "<Figure size 720x432 with 1 Axes>"
      ]
     },
     "metadata": {},
     "output_type": "display_data"
    }
   ],
   "source": [
    "ccl_df.plot(figsize=(10, 6))"
   ]
  },
  {
   "cell_type": "code",
   "execution_count": 163,
   "id": "democratic-explosion",
   "metadata": {},
   "outputs": [],
   "source": [
    "luv_df.dropna(inplace=True)"
   ]
  },
  {
   "cell_type": "code",
   "execution_count": 164,
   "id": "duplicate-natural",
   "metadata": {},
   "outputs": [],
   "source": [
    "ccl_df.dropna(inplace=True)"
   ]
  },
  {
   "cell_type": "code",
   "execution_count": 165,
   "id": "prerequisite-headset",
   "metadata": {},
   "outputs": [
    {
     "ename": "KeyError",
     "evalue": "'SMA1'",
     "output_type": "error",
     "traceback": [
      "\u001b[1;31m---------------------------------------------------------------------------\u001b[0m",
      "\u001b[1;31mKeyError\u001b[0m                                  Traceback (most recent call last)",
      "\u001b[1;32m~\\anaconda3\\envs\\pyvizenv\\lib\\site-packages\\pandas\\core\\indexes\\base.py\u001b[0m in \u001b[0;36mget_loc\u001b[1;34m(self, key, method, tolerance)\u001b[0m\n\u001b[0;32m   2656\u001b[0m             \u001b[1;32mtry\u001b[0m\u001b[1;33m:\u001b[0m\u001b[1;33m\u001b[0m\u001b[1;33m\u001b[0m\u001b[0m\n\u001b[1;32m-> 2657\u001b[1;33m                 \u001b[1;32mreturn\u001b[0m \u001b[0mself\u001b[0m\u001b[1;33m.\u001b[0m\u001b[0m_engine\u001b[0m\u001b[1;33m.\u001b[0m\u001b[0mget_loc\u001b[0m\u001b[1;33m(\u001b[0m\u001b[0mkey\u001b[0m\u001b[1;33m)\u001b[0m\u001b[1;33m\u001b[0m\u001b[1;33m\u001b[0m\u001b[0m\n\u001b[0m\u001b[0;32m   2658\u001b[0m             \u001b[1;32mexcept\u001b[0m \u001b[0mKeyError\u001b[0m\u001b[1;33m:\u001b[0m\u001b[1;33m\u001b[0m\u001b[1;33m\u001b[0m\u001b[0m\n",
      "\u001b[1;32mpandas/_libs/index.pyx\u001b[0m in \u001b[0;36mpandas._libs.index.IndexEngine.get_loc\u001b[1;34m()\u001b[0m\n",
      "\u001b[1;32mpandas/_libs/index.pyx\u001b[0m in \u001b[0;36mpandas._libs.index.IndexEngine.get_loc\u001b[1;34m()\u001b[0m\n",
      "\u001b[1;32mpandas/_libs/hashtable_class_helper.pxi\u001b[0m in \u001b[0;36mpandas._libs.hashtable.PyObjectHashTable.get_item\u001b[1;34m()\u001b[0m\n",
      "\u001b[1;32mpandas/_libs/hashtable_class_helper.pxi\u001b[0m in \u001b[0;36mpandas._libs.hashtable.PyObjectHashTable.get_item\u001b[1;34m()\u001b[0m\n",
      "\u001b[1;31mKeyError\u001b[0m: 'SMA1'",
      "\nDuring handling of the above exception, another exception occurred:\n",
      "\u001b[1;31mKeyError\u001b[0m                                  Traceback (most recent call last)",
      "\u001b[1;32m<ipython-input-165-cb831929bc66>\u001b[0m in \u001b[0;36m<module>\u001b[1;34m\u001b[0m\n\u001b[0;32m      1\u001b[0m \u001b[1;31m# Check where the short term MA is greater than longe term MA, mark those with a 1 and others with -1\u001b[0m\u001b[1;33m\u001b[0m\u001b[1;33m\u001b[0m\u001b[1;33m\u001b[0m\u001b[0m\n\u001b[1;32m----> 2\u001b[1;33m \u001b[0mluv_df\u001b[0m\u001b[1;33m[\u001b[0m\u001b[1;34m'Position'\u001b[0m\u001b[1;33m]\u001b[0m \u001b[1;33m=\u001b[0m \u001b[0mnp\u001b[0m\u001b[1;33m.\u001b[0m\u001b[0mwhere\u001b[0m\u001b[1;33m(\u001b[0m\u001b[0mluv_df\u001b[0m\u001b[1;33m[\u001b[0m\u001b[1;34m'SMA1'\u001b[0m\u001b[1;33m]\u001b[0m \u001b[1;33m>\u001b[0m \u001b[0mluv_df\u001b[0m\u001b[1;33m[\u001b[0m\u001b[1;34m'SMA2'\u001b[0m\u001b[1;33m]\u001b[0m\u001b[1;33m,\u001b[0m \u001b[1;36m1\u001b[0m\u001b[1;33m,\u001b[0m \u001b[1;33m-\u001b[0m\u001b[1;36m1\u001b[0m\u001b[1;33m)\u001b[0m\u001b[1;33m\u001b[0m\u001b[1;33m\u001b[0m\u001b[0m\n\u001b[0m",
      "\u001b[1;32m~\\anaconda3\\envs\\pyvizenv\\lib\\site-packages\\pandas\\core\\frame.py\u001b[0m in \u001b[0;36m__getitem__\u001b[1;34m(self, key)\u001b[0m\n\u001b[0;32m   2925\u001b[0m             \u001b[1;32mif\u001b[0m \u001b[0mself\u001b[0m\u001b[1;33m.\u001b[0m\u001b[0mcolumns\u001b[0m\u001b[1;33m.\u001b[0m\u001b[0mnlevels\u001b[0m \u001b[1;33m>\u001b[0m \u001b[1;36m1\u001b[0m\u001b[1;33m:\u001b[0m\u001b[1;33m\u001b[0m\u001b[1;33m\u001b[0m\u001b[0m\n\u001b[0;32m   2926\u001b[0m                 \u001b[1;32mreturn\u001b[0m \u001b[0mself\u001b[0m\u001b[1;33m.\u001b[0m\u001b[0m_getitem_multilevel\u001b[0m\u001b[1;33m(\u001b[0m\u001b[0mkey\u001b[0m\u001b[1;33m)\u001b[0m\u001b[1;33m\u001b[0m\u001b[1;33m\u001b[0m\u001b[0m\n\u001b[1;32m-> 2927\u001b[1;33m             \u001b[0mindexer\u001b[0m \u001b[1;33m=\u001b[0m \u001b[0mself\u001b[0m\u001b[1;33m.\u001b[0m\u001b[0mcolumns\u001b[0m\u001b[1;33m.\u001b[0m\u001b[0mget_loc\u001b[0m\u001b[1;33m(\u001b[0m\u001b[0mkey\u001b[0m\u001b[1;33m)\u001b[0m\u001b[1;33m\u001b[0m\u001b[1;33m\u001b[0m\u001b[0m\n\u001b[0m\u001b[0;32m   2928\u001b[0m             \u001b[1;32mif\u001b[0m \u001b[0mis_integer\u001b[0m\u001b[1;33m(\u001b[0m\u001b[0mindexer\u001b[0m\u001b[1;33m)\u001b[0m\u001b[1;33m:\u001b[0m\u001b[1;33m\u001b[0m\u001b[1;33m\u001b[0m\u001b[0m\n\u001b[0;32m   2929\u001b[0m                 \u001b[0mindexer\u001b[0m \u001b[1;33m=\u001b[0m \u001b[1;33m[\u001b[0m\u001b[0mindexer\u001b[0m\u001b[1;33m]\u001b[0m\u001b[1;33m\u001b[0m\u001b[1;33m\u001b[0m\u001b[0m\n",
      "\u001b[1;32m~\\anaconda3\\envs\\pyvizenv\\lib\\site-packages\\pandas\\core\\indexes\\base.py\u001b[0m in \u001b[0;36mget_loc\u001b[1;34m(self, key, method, tolerance)\u001b[0m\n\u001b[0;32m   2657\u001b[0m                 \u001b[1;32mreturn\u001b[0m \u001b[0mself\u001b[0m\u001b[1;33m.\u001b[0m\u001b[0m_engine\u001b[0m\u001b[1;33m.\u001b[0m\u001b[0mget_loc\u001b[0m\u001b[1;33m(\u001b[0m\u001b[0mkey\u001b[0m\u001b[1;33m)\u001b[0m\u001b[1;33m\u001b[0m\u001b[1;33m\u001b[0m\u001b[0m\n\u001b[0;32m   2658\u001b[0m             \u001b[1;32mexcept\u001b[0m \u001b[0mKeyError\u001b[0m\u001b[1;33m:\u001b[0m\u001b[1;33m\u001b[0m\u001b[1;33m\u001b[0m\u001b[0m\n\u001b[1;32m-> 2659\u001b[1;33m                 \u001b[1;32mreturn\u001b[0m \u001b[0mself\u001b[0m\u001b[1;33m.\u001b[0m\u001b[0m_engine\u001b[0m\u001b[1;33m.\u001b[0m\u001b[0mget_loc\u001b[0m\u001b[1;33m(\u001b[0m\u001b[0mself\u001b[0m\u001b[1;33m.\u001b[0m\u001b[0m_maybe_cast_indexer\u001b[0m\u001b[1;33m(\u001b[0m\u001b[0mkey\u001b[0m\u001b[1;33m)\u001b[0m\u001b[1;33m)\u001b[0m\u001b[1;33m\u001b[0m\u001b[1;33m\u001b[0m\u001b[0m\n\u001b[0m\u001b[0;32m   2660\u001b[0m         \u001b[0mindexer\u001b[0m \u001b[1;33m=\u001b[0m \u001b[0mself\u001b[0m\u001b[1;33m.\u001b[0m\u001b[0mget_indexer\u001b[0m\u001b[1;33m(\u001b[0m\u001b[1;33m[\u001b[0m\u001b[0mkey\u001b[0m\u001b[1;33m]\u001b[0m\u001b[1;33m,\u001b[0m \u001b[0mmethod\u001b[0m\u001b[1;33m=\u001b[0m\u001b[0mmethod\u001b[0m\u001b[1;33m,\u001b[0m \u001b[0mtolerance\u001b[0m\u001b[1;33m=\u001b[0m\u001b[0mtolerance\u001b[0m\u001b[1;33m)\u001b[0m\u001b[1;33m\u001b[0m\u001b[1;33m\u001b[0m\u001b[0m\n\u001b[0;32m   2661\u001b[0m         \u001b[1;32mif\u001b[0m \u001b[0mindexer\u001b[0m\u001b[1;33m.\u001b[0m\u001b[0mndim\u001b[0m \u001b[1;33m>\u001b[0m \u001b[1;36m1\u001b[0m \u001b[1;32mor\u001b[0m \u001b[0mindexer\u001b[0m\u001b[1;33m.\u001b[0m\u001b[0msize\u001b[0m \u001b[1;33m>\u001b[0m \u001b[1;36m1\u001b[0m\u001b[1;33m:\u001b[0m\u001b[1;33m\u001b[0m\u001b[1;33m\u001b[0m\u001b[0m\n",
      "\u001b[1;32mpandas/_libs/index.pyx\u001b[0m in \u001b[0;36mpandas._libs.index.IndexEngine.get_loc\u001b[1;34m()\u001b[0m\n",
      "\u001b[1;32mpandas/_libs/index.pyx\u001b[0m in \u001b[0;36mpandas._libs.index.IndexEngine.get_loc\u001b[1;34m()\u001b[0m\n",
      "\u001b[1;32mpandas/_libs/hashtable_class_helper.pxi\u001b[0m in \u001b[0;36mpandas._libs.hashtable.PyObjectHashTable.get_item\u001b[1;34m()\u001b[0m\n",
      "\u001b[1;32mpandas/_libs/hashtable_class_helper.pxi\u001b[0m in \u001b[0;36mpandas._libs.hashtable.PyObjectHashTable.get_item\u001b[1;34m()\u001b[0m\n",
      "\u001b[1;31mKeyError\u001b[0m: 'SMA1'"
     ]
    }
   ],
   "source": [
    "# Check where the short term MA is greater than longe term MA, mark those with a 1 and others with -1\n",
    "luv_df['Position'] = np.where(luv_df['SMA1'] > luv_df['SMA2'], 1, -1)"
   ]
  },
  {
   "cell_type": "code",
   "execution_count": null,
   "id": "rural-finder",
   "metadata": {},
   "outputs": [],
   "source": [
    "# Check where the short term MA is greater than longe term MA, mark those with a 1 and others with -1\n",
    "ccl_df['Position'] = np.where(ccl_df['SMA1'] > ccl_df['SMA2'], 1, -1)"
   ]
  },
  {
   "cell_type": "code",
   "execution_count": null,
   "id": "hindu-actress",
   "metadata": {},
   "outputs": [],
   "source": [
    "luv_df.head()"
   ]
  },
  {
   "cell_type": "code",
   "execution_count": null,
   "id": "complimentary-adapter",
   "metadata": {},
   "outputs": [],
   "source": [
    "luv_df.reset_index()"
   ]
  },
  {
   "cell_type": "code",
   "execution_count": null,
   "id": "simplified-jimmy",
   "metadata": {},
   "outputs": [],
   "source": [
    "ccl_df.head()\n",
    "ccl_df.rename(columns={'Adj Close': 'close'}, inplace=True)"
   ]
  },
  {
   "cell_type": "code",
   "execution_count": null,
   "id": "ready-initial",
   "metadata": {},
   "outputs": [],
   "source": [
    "combined_df = pd.concat([ccl_df, luv_df], axis = 1)"
   ]
  },
  {
   "cell_type": "code",
   "execution_count": null,
   "id": "developmental-crown",
   "metadata": {},
   "outputs": [],
   "source": [
    "print (combined_df)"
   ]
  },
  {
   "cell_type": "code",
   "execution_count": null,
   "id": "manual-polish",
   "metadata": {},
   "outputs": [],
   "source": []
  },
  {
   "cell_type": "code",
   "execution_count": null,
   "id": "peaceful-israel",
   "metadata": {},
   "outputs": [],
   "source": []
  },
  {
   "cell_type": "code",
   "execution_count": null,
   "id": "ongoing-interstate",
   "metadata": {},
   "outputs": [],
   "source": []
  }
 ],
 "metadata": {
  "kernelspec": {
   "display_name": "Python 3",
   "language": "python",
   "name": "python3"
  },
  "language_info": {
   "codemirror_mode": {
    "name": "ipython",
    "version": 3
   },
   "file_extension": ".py",
   "mimetype": "text/x-python",
   "name": "python",
   "nbconvert_exporter": "python",
   "pygments_lexer": "ipython3",
   "version": "3.7.9"
  }
 },
 "nbformat": 4,
 "nbformat_minor": 5
}
